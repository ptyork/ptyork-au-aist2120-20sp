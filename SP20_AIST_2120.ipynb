{
  "nbformat": 4,
  "nbformat_minor": 0,
  "metadata": {
    "kernelspec": {
      "display_name": "Python 3",
      "language": "python",
      "name": "python3"
    },
    "language_info": {
      "codemirror_mode": {
        "name": "ipython",
        "version": 3
      },
      "file_extension": ".py",
      "mimetype": "text/x-python",
      "name": "python",
      "nbconvert_exporter": "python",
      "pygments_lexer": "ipython3",
      "version": "3.7.4"
    },
    "colab": {
      "name": "SP20_AIST 2120.ipynb",
      "provenance": [],
      "collapsed_sections": [],
      "toc_visible": true,
      "include_colab_link": true
    }
  },
  "cells": [
    {
      "cell_type": "markdown",
      "metadata": {
        "id": "view-in-github",
        "colab_type": "text"
      },
      "source": [
        "<a href=\"https://colab.research.google.com/github/ptyork/ptyork-au-aist2120-20sp/blob/master/SP20_AIST_2120.ipynb\" target=\"_parent\"><img src=\"https://colab.research.google.com/assets/colab-badge.svg\" alt=\"Open In Colab\"/></a>"
      ]
    },
    {
      "cell_type": "markdown",
      "metadata": {
        "id": "NJi9AQ_V9YOJ",
        "colab_type": "text"
      },
      "source": [
        "# Spring 2020 AIST 2120 Jupyter Notebook"
      ]
    },
    {
      "cell_type": "markdown",
      "metadata": {
        "id": "xWwcbSCk70Yr",
        "colab_type": "text"
      },
      "source": [
        "# Section 1: Operators\n",
        "\n",
        "  &nbsp;&nbsp; \\+  &nbsp;&nbsp;&nbsp;&nbsp; addition  \n",
        "  &nbsp;&nbsp; \\-  &nbsp;&nbsp;&nbsp;&nbsp;&nbsp; subtraction  \n",
        "  &nbsp;&nbsp; \\*  &nbsp;&nbsp;&nbsp;&nbsp;&nbsp; multiplication  \n",
        "  &nbsp;&nbsp; \\** &nbsp;&nbsp;&nbsp;&nbsp; exponent  \n",
        "  &nbsp;&nbsp; /   &nbsp;&nbsp;&nbsp;&nbsp;&nbsp; division, also called floating point division (includes decimal EVEN a 0 if it **is** divided evenly)  \n",
        "  &nbsp;&nbsp; //  &nbsp;&nbsp;&nbsp;&nbsp; floor division (cuts off decimal even when it is **not** divided evenly)  \n",
        "  &nbsp;&nbsp; %   &nbsp;&nbsp;&nbsp; remainder"
      ]
    },
    {
      "cell_type": "code",
      "metadata": {
        "id": "iwZLcbqJ70Yv",
        "colab_type": "code",
        "colab": {}
      },
      "source": [
        "a = 3\n",
        "b = 6\n",
        "c = 2"
      ],
      "execution_count": null,
      "outputs": []
    },
    {
      "cell_type": "code",
      "metadata": {
        "id": "CW0EGhxr70Y0",
        "colab_type": "code",
        "colab": {},
        "outputId": "569ff6b5-7350-4587-fd04-8a3f1a4fe94d"
      },
      "source": [
        "print(a + c)"
      ],
      "execution_count": null,
      "outputs": [
        {
          "output_type": "stream",
          "text": [
            "5\n"
          ],
          "name": "stdout"
        }
      ]
    },
    {
      "cell_type": "code",
      "metadata": {
        "id": "Nf91G_MY70Y7",
        "colab_type": "code",
        "colab": {},
        "outputId": "06dbe625-295e-41db-d62f-d6137f885ec6"
      },
      "source": [
        "print(b - c)"
      ],
      "execution_count": null,
      "outputs": [
        {
          "output_type": "stream",
          "text": [
            "4\n"
          ],
          "name": "stdout"
        }
      ]
    },
    {
      "cell_type": "code",
      "metadata": {
        "id": "TwNETFkb70ZA",
        "colab_type": "code",
        "colab": {},
        "outputId": "a91d2141-e9c3-41b6-c2a9-d6acbaf62930"
      },
      "source": [
        "print(a * c)"
      ],
      "execution_count": null,
      "outputs": [
        {
          "output_type": "stream",
          "text": [
            "6\n"
          ],
          "name": "stdout"
        }
      ]
    },
    {
      "cell_type": "code",
      "metadata": {
        "id": "t3b5hqG570ZF",
        "colab_type": "code",
        "colab": {},
        "outputId": "fe1eeab9-8686-4ec1-8524-6272ecf4936f"
      },
      "source": [
        "print(a ** c)"
      ],
      "execution_count": null,
      "outputs": [
        {
          "output_type": "stream",
          "text": [
            "9\n"
          ],
          "name": "stdout"
        }
      ]
    },
    {
      "cell_type": "code",
      "metadata": {
        "id": "5VDGMBv-70ZK",
        "colab_type": "code",
        "colab": {},
        "outputId": "dd6353df-6183-4157-a725-491c8dc78dc4"
      },
      "source": [
        "print(b / c)"
      ],
      "execution_count": null,
      "outputs": [
        {
          "output_type": "stream",
          "text": [
            "3.0\n"
          ],
          "name": "stdout"
        }
      ]
    },
    {
      "cell_type": "code",
      "metadata": {
        "id": "_-3c1XP670ZP",
        "colab_type": "code",
        "colab": {},
        "outputId": "943a88ea-695b-4a79-dad8-3a03bdb6c427"
      },
      "source": [
        "print(b // c)"
      ],
      "execution_count": null,
      "outputs": [
        {
          "output_type": "stream",
          "text": [
            "3\n"
          ],
          "name": "stdout"
        }
      ]
    },
    {
      "cell_type": "code",
      "metadata": {
        "id": "vZRQdONy70ZU",
        "colab_type": "code",
        "colab": {},
        "outputId": "26faebf4-326c-4564-c85a-61842c59d16a"
      },
      "source": [
        "print(a / c)"
      ],
      "execution_count": null,
      "outputs": [
        {
          "output_type": "stream",
          "text": [
            "1.5\n"
          ],
          "name": "stdout"
        }
      ]
    },
    {
      "cell_type": "code",
      "metadata": {
        "id": "xm3fVabJ70ZZ",
        "colab_type": "code",
        "colab": {},
        "outputId": "48954a58-9782-4e77-b367-111b6ff79fd8"
      },
      "source": [
        "print(a // c)"
      ],
      "execution_count": null,
      "outputs": [
        {
          "output_type": "stream",
          "text": [
            "1\n"
          ],
          "name": "stdout"
        }
      ]
    },
    {
      "cell_type": "code",
      "metadata": {
        "id": "9CoLKiiy70Zf",
        "colab_type": "code",
        "colab": {},
        "outputId": "6e1686bb-fe46-4a05-d715-8c17e8e5d7b4"
      },
      "source": [
        "print(b % c)"
      ],
      "execution_count": null,
      "outputs": [
        {
          "output_type": "stream",
          "text": [
            "0\n"
          ],
          "name": "stdout"
        }
      ]
    },
    {
      "cell_type": "code",
      "metadata": {
        "id": "lHYmSs6N70Zk",
        "colab_type": "code",
        "colab": {},
        "outputId": "e13fc921-359a-4302-a004-e67019729f31"
      },
      "source": [
        "print(a % c)"
      ],
      "execution_count": null,
      "outputs": [
        {
          "output_type": "stream",
          "text": [
            "1\n"
          ],
          "name": "stdout"
        }
      ]
    },
    {
      "cell_type": "markdown",
      "metadata": {
        "id": "90sNPR-g70Zp",
        "colab_type": "text"
      },
      "source": [
        "### 1.1 Using Operations in Code\n",
        "\n",
        "The example below shows how you can use the remainder operator to find even numbers. See if you can figure out how to find the odd ones!"
      ]
    },
    {
      "cell_type": "code",
      "metadata": {
        "id": "5ddXkSsU70Zr",
        "colab_type": "code",
        "colab": {},
        "outputId": "8a49fdf8-2c05-4f6b-8c5b-31f5bc409766"
      },
      "source": [
        "for x in range(1,11):\n",
        "    if x % 2 == 0:\n",
        "        print(x)"
      ],
      "execution_count": null,
      "outputs": [
        {
          "output_type": "stream",
          "text": [
            "2\n",
            "4\n",
            "6\n",
            "8\n",
            "10\n"
          ],
          "name": "stdout"
        }
      ]
    },
    {
      "cell_type": "markdown",
      "metadata": {
        "id": "wgnnKqTy-dkX",
        "colab_type": "text"
      },
      "source": [
        "# Section 2: Concatenation\n",
        "\n",
        "String concatenation is basically putting together a number of separate strings into one single string using a '+'.\n",
        "\n",
        "Keep in mind that just like in C#, there are different data types in Python. Common ones include strings, integers, and floating point numbers (i.e. decimal numbers). Because of this, there are some rules for string concatenation.\n",
        "\n"
      ]
    },
    {
      "cell_type": "markdown",
      "metadata": {
        "id": "r4ZNCTlv_8RD",
        "colab_type": "text"
      },
      "source": [
        "## 2.2 String + String\n",
        "\n",
        "Obviously, two strings can definitely be concatenated together!"
      ]
    },
    {
      "cell_type": "code",
      "metadata": {
        "id": "tf075HwLATHp",
        "colab_type": "code",
        "colab": {
          "base_uri": "https://localhost:8080/",
          "height": 34
        },
        "outputId": "4d44070a-b28c-4a7e-8f4b-26f7df4766ed"
      },
      "source": [
        "print('Augusta' + '  University')"
      ],
      "execution_count": null,
      "outputs": [
        {
          "output_type": "stream",
          "text": [
            "Augusta  University\n"
          ],
          "name": "stdout"
        }
      ]
    },
    {
      "cell_type": "markdown",
      "metadata": {
        "id": "QgBEhUteijx2",
        "colab_type": "text"
      },
      "source": [
        "*Note the space before the second word. You can get the same effect by adding a space after the first word. If no space is there, it will concatenate the strings without the space. Try it out on the code block above.*"
      ]
    },
    {
      "cell_type": "markdown",
      "metadata": {
        "id": "Z5Udc7nThAXe",
        "colab_type": "text"
      },
      "source": [
        "## 2.3 String + Number\n",
        "\n",
        "How about concatenating a number (such as an int or float) to a string? Well, the plus sign has two meanings in Python. In the previous section, we saw that the plus sign means addition and now we've learned it can also mean concatenate. Since conctenation deals with strings, you can't directly concatenate a string with an int or float. However, you can convert the int/float to a string in order for it to be concatenated with another string.\n",
        "\n",
        "Let's try this out with an address.\n",
        "\n"
      ]
    },
    {
      "cell_type": "code",
      "metadata": {
        "id": "P2KTamITicYk",
        "colab_type": "code",
        "colab": {
          "base_uri": "https://localhost:8080/",
          "height": 34
        },
        "outputId": "a07bdcfc-7228-41d7-c627-6ad82e910dc0"
      },
      "source": [
        "print(str(144) + \" Main Street\")"
      ],
      "execution_count": null,
      "outputs": [
        {
          "output_type": "stream",
          "text": [
            "144 Main Street\n"
          ],
          "name": "stdout"
        }
      ]
    },
    {
      "cell_type": "markdown",
      "metadata": {
        "id": "_0TIgS-vipqc",
        "colab_type": "text"
      },
      "source": [
        "In the above example, we were able to concatenate an int with a string because we used the str() function to convert the int to a string. If you remove the str() conversion, it will give an error.\n",
        "\n",
        "The other most useful conversion functions are int() and float(), which will convert values to an int or float, respectively."
      ]
    },
    {
      "cell_type": "markdown",
      "metadata": {
        "id": "wYJYxaoyjRQm",
        "colab_type": "text"
      },
      "source": [
        "# Section 3: Replication\n",
        "\n",
        "Replication is similar to concatenation in that it produces a single string. However, with replication you can multiply a string by an int, producing the original string replicated that number of times."
      ]
    },
    {
      "cell_type": "code",
      "metadata": {
        "id": "aRucY4pYkHKB",
        "colab_type": "code",
        "colab": {
          "base_uri": "https://localhost:8080/",
          "height": 34
        },
        "outputId": "5012e7d3-a74f-4494-b0ce-3aab1f4ee2fe"
      },
      "source": [
        "print(\"Test\" * 4)"
      ],
      "execution_count": null,
      "outputs": [
        {
          "output_type": "stream",
          "text": [
            "TestTestTestTest\n"
          ],
          "name": "stdout"
        }
      ]
    },
    {
      "cell_type": "markdown",
      "metadata": {
        "id": "ATSiczfhkM2u",
        "colab_type": "text"
      },
      "source": [
        "With replication, you do not need to convert the int to a string. "
      ]
    },
    {
      "cell_type": "markdown",
      "metadata": {
        "id": "s4L4sljskzWp",
        "colab_type": "text"
      },
      "source": [
        "# Section 4: Simple, Yet Important Functions\n",
        "\n",
        "The following functions will help you begin writing programs in Python:\n",
        "\n",
        "&nbsp;&nbsp;&nbsp;&nbsp;print()&nbsp;&nbsp;&nbsp;&nbsp;&nbsp;&nbsp;&nbsp;prints what is inside the parenthesis to the screen\n",
        "\n",
        "&nbsp;&nbsp;&nbsp;&nbsp;input()&nbsp;&nbsp;&nbsp;&nbsp;&nbsp;&nbsp;allows the user to input a value into your code\n",
        "\n",
        "&nbsp;&nbsp;&nbsp;&nbsp;len()&nbsp;&nbsp;&nbsp;&nbsp;&nbsp;&nbsp;&nbsp;&nbsp;&nbsp;&nbsp;returns the number of characters in a string\n",
        "\n",
        "At this point you might be surprised to know that you can actually write a small program with what you know!\n",
        "\n",
        "The example below prompts the user for their name and age and then uses concatenation to create a greeting for them."
      ]
    },
    {
      "cell_type": "code",
      "metadata": {
        "id": "mBQOEBXHnneH",
        "colab_type": "code",
        "colab": {}
      },
      "source": [
        "print(\"What is your name?\")\n",
        "name = input()\n",
        "print(\"How old are you?\")\n",
        "age = input()\n",
        "\n",
        "print(\"Hi, my name is \" + name + \" and I am \" + str(age) + \" years old.\")"
      ],
      "execution_count": null,
      "outputs": []
    },
    {
      "cell_type": "markdown",
      "metadata": {
        "id": "lY484BGG5MyU",
        "colab_type": "text"
      },
      "source": [
        "# Section 5: Boolean Values\n",
        "\n",
        "Boolean is a data type in Python that only has two values - either True or False. This data type is useful for comparisons.\n",
        "\n",
        "The following are known as comparsion operators:\n",
        "\n",
        "&nbsp;&nbsp;&nbsp;&nbsp;==&nbsp;&nbsp;&nbsp;&nbsp;&nbsp;&nbsp;Equal to\n",
        "\n",
        "&nbsp;&nbsp;&nbsp;&nbsp;!=&nbsp;&nbsp;&nbsp;&nbsp;&nbsp;&nbsp;&nbsp;Not equal to\n",
        "\n",
        "&nbsp;&nbsp;&nbsp;&nbsp;<&nbsp;&nbsp;&nbsp;&nbsp;&nbsp;&nbsp;&nbsp;&nbsp;Less than\n",
        "\n",
        "&nbsp;&nbsp;&nbsp;&nbsp;>&nbsp;&nbsp;&nbsp;&nbsp;&nbsp;&nbsp;&nbsp;&nbsp;Greater than\n",
        "\n",
        "&nbsp;&nbsp;&nbsp;&nbsp;<=&nbsp;&nbsp;&nbsp;&nbsp;&nbsp;&nbsp;Less than or equal to\n",
        "\n",
        "&nbsp;&nbsp;&nbsp;&nbsp;>=&nbsp;&nbsp;&nbsp;&nbsp;&nbsp;&nbsp;Greater than or equal to\n",
        "\n",
        "Now let's look at the ways we can use these comparison operators in our code. The examples comparing numbers below all return True... see if you can make them all return False."
      ]
    },
    {
      "cell_type": "code",
      "metadata": {
        "id": "RxCu46DT9nxm",
        "colab_type": "code",
        "colab": {
          "base_uri": "https://localhost:8080/",
          "height": 34
        },
        "outputId": "acfcb232-6a73-4771-8981-e58ae46d4fa5"
      },
      "source": [
        "27 == 27"
      ],
      "execution_count": null,
      "outputs": [
        {
          "output_type": "execute_result",
          "data": {
            "text/plain": [
              "True"
            ]
          },
          "metadata": {
            "tags": []
          },
          "execution_count": 1
        }
      ]
    },
    {
      "cell_type": "code",
      "metadata": {
        "id": "gHrabmYZ91ES",
        "colab_type": "code",
        "colab": {
          "base_uri": "https://localhost:8080/",
          "height": 34
        },
        "outputId": "7ef5d88a-c851-41d6-de06-0b7993c20469"
      },
      "source": [
        "27 != 7"
      ],
      "execution_count": null,
      "outputs": [
        {
          "output_type": "execute_result",
          "data": {
            "text/plain": [
              "True"
            ]
          },
          "metadata": {
            "tags": []
          },
          "execution_count": 2
        }
      ]
    },
    {
      "cell_type": "code",
      "metadata": {
        "id": "RzMzA9-N-K6e",
        "colab_type": "code",
        "colab": {
          "base_uri": "https://localhost:8080/",
          "height": 34
        },
        "outputId": "5a4fa84b-c79b-4d51-f38a-b60f7925fb6a"
      },
      "source": [
        "27 >= 27"
      ],
      "execution_count": null,
      "outputs": [
        {
          "output_type": "execute_result",
          "data": {
            "text/plain": [
              "True"
            ]
          },
          "metadata": {
            "tags": []
          },
          "execution_count": 3
        }
      ]
    },
    {
      "cell_type": "code",
      "metadata": {
        "id": "xzMD1ohKl1TM",
        "colab_type": "code",
        "colab": {
          "base_uri": "https://localhost:8080/",
          "height": 34
        },
        "outputId": "27ec31a3-11d7-409d-edc3-06c5fe22bda1"
      },
      "source": [
        "'hello' != 'hi'"
      ],
      "execution_count": null,
      "outputs": [
        {
          "output_type": "execute_result",
          "data": {
            "text/plain": [
              "True"
            ]
          },
          "metadata": {
            "tags": []
          },
          "execution_count": 3
        }
      ]
    },
    {
      "cell_type": "code",
      "metadata": {
        "id": "gUdcGDmtl7sJ",
        "colab_type": "code",
        "colab": {
          "base_uri": "https://localhost:8080/",
          "height": 34
        },
        "outputId": "a4cb0a4b-ec31-457f-9bdd-f54c2bcc42c6"
      },
      "source": [
        "'python' != 'Python'"
      ],
      "execution_count": null,
      "outputs": [
        {
          "output_type": "execute_result",
          "data": {
            "text/plain": [
              "True"
            ]
          },
          "metadata": {
            "tags": []
          },
          "execution_count": 2
        }
      ]
    },
    {
      "cell_type": "markdown",
      "metadata": {
        "id": "3HCzkPI1mAza",
        "colab_type": "text"
      },
      "source": [
        "# Section 6: Branching\n",
        "\n",
        "In Python, we use code blocks to group several lines of code together. Each code block is identified by an indent.\n",
        "\n",
        "One way we make use of code blocks is the use of if statements. If statements, used along with else or elif statements, we can select which code is executed based on a given condition.\n",
        "\n",
        "See the example below using if/else/elif statements."
      ]
    },
    {
      "cell_type": "code",
      "metadata": {
        "id": "5nra0KRVnngF",
        "colab_type": "code",
        "colab": {
          "base_uri": "https://localhost:8080/",
          "height": 51
        },
        "outputId": "8c15cb87-b37e-410e-d5bf-946f46dc8f0a"
      },
      "source": [
        "animal = input('Give me an animal: ')\n",
        "if animal == 'bear' or animal == 'horse':\n",
        "  print('This is a large animal!')\n",
        "elif animal == 'dog' or animal == 'goat':\n",
        "  print('This is a medium sized animal.')\n",
        "elif animal == 'bird' or animal == 'squirrel':\n",
        "  print('This animal is small.')\n",
        "else:\n",
        "  print(\"Sorry I don't know that animal!\")"
      ],
      "execution_count": null,
      "outputs": [
        {
          "output_type": "stream",
          "text": [
            "Give me an animal: bird\n",
            "This animal is small.\n"
          ],
          "name": "stdout"
        }
      ]
    },
    {
      "cell_type": "markdown",
      "metadata": {
        "id": "RjPbaOg4pDT4",
        "colab_type": "text"
      },
      "source": [
        "Notice that when a condition is true, only the code within that code block is executed."
      ]
    },
    {
      "cell_type": "markdown",
      "metadata": {
        "id": "Sh9E7HL6pPv9",
        "colab_type": "text"
      },
      "source": [
        "# Section 7: Looping\n",
        "\n",
        "Loops are another use of code blocks. Unlike if/else statements, loops will continue to execute the code within the code block until the condition is false.\n",
        "\n",
        "There are 2 common types of loops in Python: the while loop and the for loop."
      ]
    },
    {
      "cell_type": "markdown",
      "metadata": {
        "id": "E4KewJBX4SO_",
        "colab_type": "text"
      },
      "source": [
        "## 7.1 While Loop\n",
        "\n",
        "The while loop executes code for as long as the condition is true.\n",
        "\n",
        "While loops are a great option for counter controlled repetition. See the example of a while loop below.\n",
        "\n"
      ]
    },
    {
      "cell_type": "code",
      "metadata": {
        "id": "dFWJo-6gps5w",
        "colab_type": "code",
        "colab": {
          "base_uri": "https://localhost:8080/",
          "height": 102
        },
        "outputId": "e244a76d-a164-4ff7-fa14-582ae1b4f14d"
      },
      "source": [
        "num = 0\n",
        "while num < 5:\n",
        "  num = num + 1\n",
        "  print(num)\n"
      ],
      "execution_count": null,
      "outputs": [
        {
          "output_type": "stream",
          "text": [
            "1\n",
            "2\n",
            "3\n",
            "4\n",
            "5\n"
          ],
          "name": "stdout"
        }
      ]
    },
    {
      "cell_type": "markdown",
      "metadata": {
        "id": "X5ZfsYkt5Ew3",
        "colab_type": "text"
      },
      "source": [
        "## 7.2 For Loop\n",
        "\n",
        "The for loop iterates over a sequence. In Python, this can be a list, a string, a tuple, a dictionary, etc.\n",
        "\n",
        "See the examples below of using a for loop to iterate over a string."
      ]
    },
    {
      "cell_type": "code",
      "metadata": {
        "id": "sTyjTR9e6LWY",
        "colab_type": "code",
        "colab": {}
      },
      "source": [
        "for ch in 'python':\n",
        "  print(ch)"
      ],
      "execution_count": null,
      "outputs": []
    },
    {
      "cell_type": "markdown",
      "metadata": {
        "id": "qemQqSLq6UPo",
        "colab_type": "text"
      },
      "source": [
        "Notice how the output prints each charater of the string on a new line. If you wanted to print the output on a single line, you can use the print function's end parameter to change it's value. The end parameter's default value is '/n' or a new line.\n",
        "\n",
        "To do this, structure the print statement as shown:\n",
        "\n",
        "print( [variable] , end=' ')\n",
        "\n",
        "Obviously, replacing [variable] with the variable name you want to print.\n",
        "\n",
        "You can set the value of the end parameter to anything that you would like to. See the example below, separating a string by dashes.\n"
      ]
    },
    {
      "cell_type": "code",
      "metadata": {
        "id": "Xmb0F1Nt7vdt",
        "colab_type": "code",
        "colab": {}
      },
      "source": [
        "for ch in 'python':\n",
        "  print(ch, end='-')"
      ],
      "execution_count": null,
      "outputs": []
    },
    {
      "cell_type": "markdown",
      "metadata": {
        "id": "2U4ZMeLF73zu",
        "colab_type": "text"
      },
      "source": [
        "### Range Function\n",
        "\n",
        "The range function returns a sequence of numbers. The syntax is as follows:\n",
        "\n",
        "range(start, stop, step)\n",
        "\n",
        "The only required parameter is the stop value. The start default is 0 and the step (increment value) default is 1.\n",
        "\n",
        "See the example below of a for loop using the range function."
      ]
    },
    {
      "cell_type": "code",
      "metadata": {
        "id": "Wnyb76bg5rin",
        "colab_type": "code",
        "colab": {
          "base_uri": "https://localhost:8080/",
          "height": 34
        },
        "outputId": "350c5dd7-470b-48af-e5ff-bb330941a0d1"
      },
      "source": [
        "for num in range(0,11):\n",
        "  print(num, end=' ')"
      ],
      "execution_count": null,
      "outputs": [
        {
          "output_type": "stream",
          "text": [
            "0 1 2 3 4 5 6 7 8 9 10 "
          ],
          "name": "stdout"
        }
      ]
    },
    {
      "cell_type": "markdown",
      "metadata": {
        "id": "8ZIElDlb-LXd",
        "colab_type": "text"
      },
      "source": [
        "Can you edit the above code to display only the even numbers? Think about which parameter you could change in the range function to get the even numbers."
      ]
    },
    {
      "cell_type": "markdown",
      "metadata": {
        "id": "yyT7lXy5rL93",
        "colab_type": "text"
      },
      "source": [
        "## 7.3 Termination\n",
        "\n",
        "What if you want to end a loop early?\n",
        "\n",
        "The following are ways that you can terminate a loop if necessary:\n",
        "\n",
        "&nbsp;&nbsp;&nbsp;&nbsp;&nbsp;break&nbsp;&nbsp;&nbsp;&nbsp;&nbsp;&nbsp;&nbsp;&nbsp;&nbsp;&nbsp;&nbsp;&nbsp;&nbsp;exits the loop and continues the program (executes next code outside of the loop)\n",
        "\n",
        "&nbsp;&nbsp;&nbsp;&nbsp;&nbsp;exit()&nbsp;&nbsp;&nbsp;&nbsp;&nbsp;&nbsp;&nbsp;&nbsp;&nbsp;&nbsp;&nbsp;&nbsp;&nbsp;&nbsp;exits the entire program (no more code will be executed)\n",
        "\n",
        "&nbsp;&nbsp;&nbsp;&nbsp;&nbsp;continue&nbsp;&nbsp;&nbsp;&nbsp;&nbsp;&nbsp;&nbsp;&nbsp;skips the rest of the code and restarts the loop\n",
        "\n",
        "See the example below to see the function of continue and break."
      ]
    },
    {
      "cell_type": "code",
      "metadata": {
        "id": "BvmBKQmDsaBu",
        "colab_type": "code",
        "colab": {}
      },
      "source": [
        "# This program tries to get the user to guess the number 7.\n",
        "\n",
        "num = int(input(\"Guess the number (hint: less than 10!): \"))\n",
        "while num:\n",
        "  if num > 10:\n",
        "    print('I said less than 10!!')\n",
        "    break\n",
        "  if num == 7:\n",
        "    print('Yay! You guessed the number!')\n",
        "    break\n",
        "  elif num > 7:\n",
        "    print('Nope, less than that!')\n",
        "    num = int(input(\"Guess the number: \"))\n",
        "    continue\n",
        "  elif num < 7:\n",
        "    print('Nope, more than that!')\n",
        "    num = int(input(\"Guess the number: \"))\n",
        "    continue\n",
        "print('The game is done.')"
      ],
      "execution_count": null,
      "outputs": []
    },
    {
      "cell_type": "markdown",
      "metadata": {
        "id": "ei9RXhVgAG9I",
        "colab_type": "text"
      },
      "source": [
        "# Section 8: Functions\n",
        "\n",
        "A function is a program that can be used within your program. Unlike a variable, it actually DOES something rather than just represent a value.\n",
        "\n",
        "Functions are useful if you need to reuse code several times throughout your program. With a function, that reused code is all grouped together and can be accessed by calling the function name.\n",
        "\n",
        "See the example below of a simple function."
      ]
    },
    {
      "cell_type": "code",
      "metadata": {
        "id": "CLKUr1CuCCCx",
        "colab_type": "code",
        "colab": {}
      },
      "source": [
        "def salary(hours, pay):\n",
        "  sal = hours * pay\n",
        "  return sal\n",
        "\n",
        "print(\"$\", salary(20, 9))"
      ],
      "execution_count": null,
      "outputs": []
    },
    {
      "cell_type": "markdown",
      "metadata": {
        "id": "S_4AMvzrDD8D",
        "colab_type": "text"
      },
      "source": [
        "Let's go over the meaning of each part of the above example:\n",
        "\n",
        "&nbsp;&nbsp;&nbsp;&nbsp;*def* statement&nbsp;&nbsp;&nbsp;-&nbsp;&nbsp;&nbsp;The def statement defines the function. In this case, the function that is defined is called salary().\n",
        "\n",
        "&nbsp;&nbsp;&nbsp;&nbsp;Parameters&nbsp;&nbsp;&nbsp;-&nbsp;&nbsp;&nbsp;Parameters are variables that store the arguments passed into the function when it is called. They appear in &nbsp;&nbsp;&nbsp;&nbsp;the parenthesis after the function name\n",
        "\n",
        "&nbsp;&nbsp;&nbsp;&nbsp;Function body&nbsp;&nbsp;&nbsp;&nbsp;-&nbsp;&nbsp;&nbsp;&nbsp;The body of the function comes after the def statement, and will be indented. This will be the code that &nbsp;&nbsp;&nbsp;&nbsp;executes when the function is called.\n",
        "\n",
        "&nbsp;&nbsp;&nbsp;&nbsp;return statement&nbsp;&nbsp;&nbsp;&nbsp;-&nbsp;&nbsp;&nbsp;&nbsp;The return value is the result of the expression.\n",
        "\n",
        "&nbsp;&nbsp;&nbsp;&nbsp;Function call&nbsp;&nbsp;&nbsp;&nbsp;-&nbsp;&nbsp;&nbsp;&nbsp;The function call is how the function is used. It consists of the function's name followed by the required &nbsp;&nbsp;&nbsp;&nbsp;arguments (if there are any)."
      ]
    },
    {
      "cell_type": "markdown",
      "metadata": {
        "id": "ohfV4t0eIP5d",
        "colab_type": "text"
      },
      "source": [
        "*Note: **Parameters** are the variables in a function's definition. **Arguments** are the values passed into the function when it is called.*"
      ]
    },
    {
      "cell_type": "markdown",
      "metadata": {
        "id": "Fq5hkhwILUeJ",
        "colab_type": "text"
      },
      "source": [
        "## 8.1 None Value\n",
        "\n",
        "The None value is the absence of a value. So, it's a value... with no value.\n",
        "\n",
        "You can use return with no value at the end of a function to return None if no value needs to be returned. An example of a pre-defined function that uses this feature is the print function. It prints things, but no value needs to be returned and therefore the function returns None."
      ]
    },
    {
      "cell_type": "markdown",
      "metadata": {
        "id": "TiyZwb2xZZtV",
        "colab_type": "text"
      },
      "source": [
        "## 8.2 Return vs. Print\n",
        "\n",
        "While print and return may seem similar they are different in how they behave. ***Print*** passes things to standard output, which is why when you use the print function, you see it printed on the console. ***Return*** is used in a function to pass a value back to the calling function.\n",
        "\n",
        "You can see a code representation of this concept below."
      ]
    },
    {
      "cell_type": "code",
      "metadata": {
        "id": "tLdCrwtJcRuC",
        "colab_type": "code",
        "colab": {}
      },
      "source": [
        "def print_something(word):\n",
        "  print(word)\n",
        "\n",
        "def return_something(word):\n",
        "  return word\n",
        "\n",
        "# Each one is labeled to help you see which output comes from which statement\n",
        "print('FIRST STATEMENT:')\n",
        "print_something('hello')             # print_something prints a value so you will see it in the output\n",
        "print('SECOND STATEMENT:')\n",
        "my_word = return_something('hey')    # return_something passes the value back to the calling function, and assigns it to the variable.\n",
        "print('THIRD STATEMENT:')            # Therefore, no output from the return_something function can be seen in this case.\n",
        "your_word = print_something('hi')    # If we use the print_something function like we did the previous one, it still prints the value.\n",
        "print('LAST 2 STATEMENTS:')\n",
        "print(my_word)                       # Now if we print the my_word variable, it prints the value returned from the return_something function\n",
        "print(your_word)                     # If we print your_word (assigned to the print_something function), it prints None.\n",
        "                                     # Nothing is RETURNED from the function to be assigned to the variable. It printed it when the function was called and it is done.\n"
      ],
      "execution_count": null,
      "outputs": []
    },
    {
      "cell_type": "markdown",
      "metadata": {
        "id": "NaGKs2_RgCFL",
        "colab_type": "text"
      },
      "source": [
        "As you can see from the above code, print and return behave a bit differently. Since no value was returned from the print_something function, the default value None was printed when we printed the variable that was assigned to the function. On the other hand, nothing is printed if we call the return_something function unless we print the variable assigned to the (result of) the function (or wrap the function call in a print statement)."
      ]
    },
    {
      "cell_type": "markdown",
      "metadata": {
        "id": "X4a3wCcZg5yN",
        "colab_type": "text"
      },
      "source": [
        "## 8.3 Multiple Parameters\n",
        "\n",
        "Functions can have one parameter, or they can have many parameters! Let's look at the previous function example with multiple parameters."
      ]
    },
    {
      "cell_type": "code",
      "metadata": {
        "id": "d7CnYoSZi54x",
        "colab_type": "code",
        "colab": {}
      },
      "source": [
        "def salary(hours, pay):        # This function has 2 parameters - hours and pay\n",
        "  sal = hours * pay\n",
        "  return sal\n",
        "\n",
        "print(\"$\", salary(20, 9))      # When you call the function, you will provide 2 arguments instead of 1.\n",
        "print(\"$\", salary(20))         # If you only provide 1 of the parameters, you will get an error."
      ],
      "execution_count": null,
      "outputs": []
    },
    {
      "cell_type": "markdown",
      "metadata": {
        "id": "ZQHfi5JfmI_x",
        "colab_type": "text"
      },
      "source": [
        "## 8.4 Optional Parameters\n",
        "\n",
        "In the previous section, you saw that only providing one parameter when there are two needed causes an error. However, this is if all the parameters are required.\n",
        "\n",
        "You can also have optional parameters. They will have a default value so that if an argument is not provided, no error will occur and the default value will be used. If an argument is provided for the optional parameter, then that value will be used and the default value is ignored."
      ]
    },
    {
      "cell_type": "code",
      "metadata": {
        "id": "sD-PNR-InGSO",
        "colab_type": "code",
        "colab": {}
      },
      "source": [
        "def salary(hours, pay=8.25):\n",
        "  sal = hours * pay\n",
        "  return sal\n",
        "\n",
        "print(\"$\", salary(20, 9))\n",
        "print(\"$\", salary(20))\n"
      ],
      "execution_count": null,
      "outputs": []
    },
    {
      "cell_type": "markdown",
      "metadata": {
        "id": "AL6NUNeqpfqW",
        "colab_type": "text"
      },
      "source": [
        "Notice how when we use an optional parameter for the pay, what we did in the previous section now runs with no errors. The defualt value is used in the second function call when no argument for the pay parameter is provided."
      ]
    },
    {
      "cell_type": "markdown",
      "metadata": {
        "id": "bsisrJ__qF_R",
        "colab_type": "text"
      },
      "source": [
        "## 8.5 Returning Multiple Values\n",
        "\n",
        "You can also return more than one value from a function. You will do this by using the return key word as normal, but by listing the values you want to return by separating them with a comma. The values will be returned as a tuple.\n",
        "\n",
        "See the example of returning multiple values below."
      ]
    },
    {
      "cell_type": "code",
      "metadata": {
        "id": "bHX0ugAaU7j9",
        "colab_type": "code",
        "colab": {}
      },
      "source": [
        "def car_depreciation(price):\n",
        "  one_minute = .91 * price\n",
        "  one_year = .81 * price\n",
        "  five_years = .40 * price\n",
        "\n",
        "  return one_minute, one_year, five_years\n",
        "\n",
        "print(f'{car_depreciation(22900)}')\n"
      ],
      "execution_count": null,
      "outputs": []
    },
    {
      "cell_type": "markdown",
      "metadata": {
        "id": "qflgwb3gXQs6",
        "colab_type": "text"
      },
      "source": [
        "As you can see, returning multiple values can be very useful. However, what if we wanted to be able to access each value individually? We can do this by \"unpacking\" the returned values into individual variables. Look at the same example below, but this time we will use this unpacking technique."
      ]
    },
    {
      "cell_type": "code",
      "metadata": {
        "id": "J3vxKgGwXrTx",
        "colab_type": "code",
        "colab": {
          "base_uri": "https://localhost:8080/",
          "height": 85
        },
        "outputId": "92a3dca3-51a2-4c63-82fb-7352526dbac9"
      },
      "source": [
        "def car_depreciation(price):\n",
        "  one_minute = .91 * price\n",
        "  one_year = .81 * price\n",
        "  five_years = .40 * price\n",
        "\n",
        "  return one_minute, one_year, five_years\n",
        "\n",
        "print(car_depreciation(22900))\n",
        "v1, v2, v3 = car_depreciation(22900)\n",
        "print(f'After one minute: $ {v1:,.2f}')\n",
        "print(f'After one year: $ {v2:,.2f}')\n",
        "print(f'After five years $ {v3:,.2f}')"
      ],
      "execution_count": null,
      "outputs": [
        {
          "output_type": "stream",
          "text": [
            "(20839.0, 18549.0, 9160.0)\n",
            "After one minute: $ 20,839.00\n",
            "After one year: $ 18,549.00\n",
            "After five years $ 9,160.00\n"
          ],
          "name": "stdout"
        }
      ]
    },
    {
      "cell_type": "markdown",
      "metadata": {
        "id": "dNRUvovoZgRO",
        "colab_type": "text"
      },
      "source": [
        "The values are now much easier to handle individually and we can do a lot more customization to them!"
      ]
    },
    {
      "cell_type": "markdown",
      "metadata": {
        "id": "CfIS4TCSNYng",
        "colab_type": "text"
      },
      "source": [
        "# Section 9: Exception Handling\n",
        "\n",
        "When you execute your code and get an error, it will crash the program. However, you don't want that happen. To handle these errors in a more graceful way that allows the program to continue to run, we use exception handling.\n",
        "\n",
        "There are two parts to exception handling: try and except. The try block will be the code that the program *attempts* to run. If an error occurs in the try block, then the except block will be executed.\n",
        "\n",
        "Test out the code below to see how you can use error handling. This code asks for a number and tries to convert it to an int. If it can be sucessfully converted, it prints a message telling the number the user entered; if it cannot be converted (let's say the user entered a string instead) it would normally throw a TypeError. However, by using exception handling, we catch the error and execute the except block instead."
      ]
    },
    {
      "cell_type": "code",
      "metadata": {
        "id": "7Dm1UWyKGryK",
        "colab_type": "code",
        "colab": {}
      },
      "source": [
        "num = input('Enter a num: ')\n",
        "try:\n",
        "  int(num)\n",
        "  print('Cool, you entered the number ' + num)\n",
        "except:\n",
        "  print('That was not a number!')"
      ],
      "execution_count": null,
      "outputs": []
    },
    {
      "cell_type": "markdown",
      "metadata": {
        "id": "ohTHOyBQZ6Tu",
        "colab_type": "text"
      },
      "source": [
        "## 9.1 Finally\n",
        "\n",
        "There is also a finally block that can be used with try/except. The finally block will execute one time after the entire code block is done, whether there is an exception or not.\n",
        "\n",
        "See below for an example of a finally block in action."
      ]
    },
    {
      "cell_type": "code",
      "metadata": {
        "id": "msDrYKxhd_MY",
        "colab_type": "code",
        "colab": {}
      },
      "source": [
        "num = input('Enter a num (or 0 to exit): ')\n",
        "try:\n",
        "  while(int(num)):\n",
        "    if num == 0:\n",
        "      break\n",
        "    else:\n",
        "      print('Cool, you entered the number ' + num)\n",
        "      num = input('Enter a num (or 0 to exit): ')\n",
        "except:\n",
        "  print('That was not a number!')\n",
        "finally:\n",
        "  print('Thank you for playing the num game!')"
      ],
      "execution_count": null,
      "outputs": []
    },
    {
      "cell_type": "markdown",
      "metadata": {
        "id": "GBzYw--Gefxk",
        "colab_type": "text"
      },
      "source": [
        "When you execute the above code, you will see that the finally block executes if the code is successfuly executed (by following directions) but it also executes if an error is thrown after the error message is displayed. Keep in mind that the finally block only executes ONE time after the rest of the code is done. So the loop to enter a num will continue to loop until the user enters a non-number or 0 and THEN the finally block will be executed."
      ]
    },
    {
      "cell_type": "markdown",
      "metadata": {
        "id": "unuxtphq4BH3",
        "colab_type": "text"
      },
      "source": [
        "# Section 10: Lists\n",
        "\n",
        "Lists are yet another data type in Python. However, lists can hold multiple values that are separated by commas. You can have a list of strings, list of ints, or even a list of lists!\n",
        "\n",
        "A list is created as follows:\n",
        "\n",
        "list_name[item1, item2, item3, ...]"
      ]
    },
    {
      "cell_type": "markdown",
      "metadata": {
        "id": "J-xCntCfY8Q9",
        "colab_type": "text"
      },
      "source": [
        "## 10.1 Methods"
      ]
    },
    {
      "cell_type": "markdown",
      "metadata": {
        "id": "suq-roRA6JCH",
        "colab_type": "text"
      },
      "source": [
        "### Indexing a List\n",
        "\n",
        "You can get a single item in a list by accessing it using the item's index. The index of the first item in a list is always 0. Keep that in mind when working with lists!\n",
        "\n",
        "Look at the list example below and how to access items using the index of the items."
      ]
    },
    {
      "cell_type": "code",
      "metadata": {
        "id": "3gKL4yp48EwJ",
        "colab_type": "code",
        "colab": {}
      },
      "source": [
        "groceries = ['bagels', 'eggs', 'ground beef', 'sweet potatoes', 'broccoli']\n",
        "\n",
        "print(groceries[0])\n",
        "print(groceries[3])\n",
        "print('The only things I need today are ' + groceries[1] + ' and ' + groceries[0])"
      ],
      "execution_count": null,
      "outputs": []
    },
    {
      "cell_type": "markdown",
      "metadata": {
        "id": "DkjvO1pJ9FnY",
        "colab_type": "text"
      },
      "source": [
        "Also note that you can use negative indexes. A negative index will start from the end of the list; so the last item of the list is at index -1. You can test out this concept on the above example!"
      ]
    },
    {
      "cell_type": "markdown",
      "metadata": {
        "id": "6Q-4PhDH9-vZ",
        "colab_type": "text"
      },
      "source": [
        "### Updating (Changing) a List Item\n",
        "\n",
        "To update or change an item in a list, you just reassign the new value to the list at the index you wish to change."
      ]
    },
    {
      "cell_type": "code",
      "metadata": {
        "id": "4yJMf8eI-yaO",
        "colab_type": "code",
        "colab": {}
      },
      "source": [
        "groceries = ['bagels', 'eggs', 'ground beef', 'sweet potatoes', 'broccoli']\n",
        "\n",
        "groceries[2] = 'chicken'\n",
        "print(groceries)"
      ],
      "execution_count": null,
      "outputs": []
    },
    {
      "cell_type": "markdown",
      "metadata": {
        "id": "aaDeVB9n_B6f",
        "colab_type": "text"
      },
      "source": [
        "### Adding to a List\n",
        "\n",
        "There are 2 methods that you can use to add a value to a list. The append() method adds the new item to the end of the list while with the insert() method you can specify the index you want the item to be in the list."
      ]
    },
    {
      "cell_type": "code",
      "metadata": {
        "id": "Rgg5zwNHC3NH",
        "colab_type": "code",
        "colab": {}
      },
      "source": [
        "groceries = ['bagels', 'eggs', 'ground beef', 'sweet potatoes', 'broccoli']\n",
        "\n",
        "groceries.append('milk')\n",
        "groceries.insert(0, 'bacon')\n",
        "\n",
        "print(groceries)"
      ],
      "execution_count": null,
      "outputs": []
    },
    {
      "cell_type": "markdown",
      "metadata": {
        "id": "wmwpvBWTTXbq",
        "colab_type": "text"
      },
      "source": [
        "### Delete Items from List\n",
        "\n",
        "There are several methods that can be used to delete items from a list including clear(), pop(), and remove().\n",
        "\n",
        "See the examples below of the use of each of these methods, and be sure to note their parameters as well (because they are different!!)"
      ]
    },
    {
      "cell_type": "code",
      "metadata": {
        "id": "fSdttusuUYDq",
        "colab_type": "code",
        "colab": {}
      },
      "source": [
        "groceries = ['bagels', 'eggs', 'ground beef', 'sweet potatoes', 'broccoli']\n",
        "\n",
        "groceries.pop(2)    # the pop() method uses the index to remove items\n",
        "print(groceries)\n",
        "groceries.pop()     # if you don't specify an index with the pop() method, it will remove the last item\n",
        "print(groceries)\n",
        "groceries.remove('eggs')   # the remove() method removes a specific value from the list\n",
        "print(groceries)\n",
        "groceries.clear()   # the clear() method empties the whole list!\n",
        "print(groceries)"
      ],
      "execution_count": null,
      "outputs": []
    },
    {
      "cell_type": "markdown",
      "metadata": {
        "id": "CjYUm0kMV4Nm",
        "colab_type": "text"
      },
      "source": [
        "### Check if Exists\n",
        "\n",
        "There are multiple ways to check for a value in a list. The code block below introduces a few of these options."
      ]
    },
    {
      "cell_type": "code",
      "metadata": {
        "id": "y6GhhaCfWh_D",
        "colab_type": "code",
        "colab": {}
      },
      "source": [
        "groceries = ['bagels', 'eggs', 'ground beef', 'sweet potatoes', 'broccoli']\n",
        "\n",
        "idx = groceries.index('eggs')   # the index() method will return the index of the specified value\n",
        "print(idx)                      # however, if the item does not exist, an error will occur\n",
        "\n",
        "count = groceries.count('eggs')          # count() returns the number of times a value occurs in a list\n",
        "print(str(count) + ' carton of eggs')    # if the value is not in the list, it will return 0\n",
        "\n",
        "if 'bagels' in groceries:                   # use if to check if value is in list\n",
        "  print('Yes, that item is on the list!')\n",
        "else:\n",
        "  print('No, that item was not found.')"
      ],
      "execution_count": null,
      "outputs": []
    },
    {
      "cell_type": "markdown",
      "metadata": {
        "id": "ekxJ4jsrSXrx",
        "colab_type": "text"
      },
      "source": [
        "### Sorting a List\n",
        "\n",
        "The sort() method can be used to order numbers or strings within a list."
      ]
    },
    {
      "cell_type": "code",
      "metadata": {
        "id": "JS8-qWmNTROh",
        "colab_type": "code",
        "colab": {}
      },
      "source": [
        "groceries = ['bagels', 'eggs', 'ground beef', 'sweet potatoes', 'broccoli']\n",
        "\n",
        "groceries.sort()\n",
        "print(groceries)"
      ],
      "execution_count": null,
      "outputs": []
    },
    {
      "cell_type": "markdown",
      "metadata": {
        "id": "9-HiymjBZNYO",
        "colab_type": "text"
      },
      "source": [
        "## 10.2 Looping\n",
        "\n",
        "There are two ways that you can iterate over a list. The first way is to iterate over the list using indexes. An example of both can be seen below."
      ]
    },
    {
      "cell_type": "code",
      "metadata": {
        "id": "9v4Ec8PWZ_A2",
        "colab_type": "code",
        "colab": {}
      },
      "source": [
        "# iterate over list using indexes\n",
        "classes = ['english', 'math', 'science', 'history']\n",
        "\n",
        "for i in range(len(classes)):                   # since we might not know how many items are in the list, we can use the len() function\n",
        "  print('I have a ' + classes[i] + ' class.')\n",
        "\n",
        "# iterate over list without indexes\n",
        "for course in classes:\n",
        "  print('I have a ' + course + ' class.')"
      ],
      "execution_count": null,
      "outputs": []
    },
    {
      "cell_type": "markdown",
      "metadata": {
        "id": "aY2zvkx3bzE8",
        "colab_type": "text"
      },
      "source": [
        "As you can see by running the code above, the outputs are the same for both ways of iterating over a list."
      ]
    },
    {
      "cell_type": "markdown",
      "metadata": {
        "id": "qKXb3YL3cUUL",
        "colab_type": "text"
      },
      "source": [
        "## 10.3 Slicing\n",
        "\n",
        "Slicing is like pulling a subset from a list. So, maybe you only want the first 3 items; or maybe you want the last 3. How could you pull only certain items from a list?\n",
        "\n",
        "The syntax for slicing is: list_name[start:stop:step]\n",
        "\n",
        "Look familiar? The syntax for slicing is similar to the parameters for the range function! It is also similar in that the start value is inclusive and the stop is exclusive.\n",
        "\n",
        "Now let's take a look at slicing in action."
      ]
    },
    {
      "cell_type": "code",
      "metadata": {
        "id": "qUSvqAfhM3fo",
        "colab_type": "code",
        "colab": {
          "base_uri": "https://localhost:8080/",
          "height": 102
        },
        "outputId": "763ea543-ac06-4462-e03f-4fdee0c21152"
      },
      "source": [
        "nums = [1, 2, 3, 4, 5, 6, 7, 8, 9, 10]\n",
        "\n",
        "print(nums[0:10])      # the whole list\n",
        "print(nums[0:4])       # first 4 numbers\n",
        "print(nums[7:10])      # last 3 numbers\n",
        "print(nums[0:10:2])    # odd numbers"
      ],
      "execution_count": null,
      "outputs": [
        {
          "output_type": "stream",
          "text": [
            "[1, 2, 3, 4, 5, 6, 7, 8, 9, 10]\n",
            "[1, 2, 3, 4]\n",
            "[8, 9, 10]\n",
            "[1, 3, 5, 7, 9]\n",
            "[10, 8, 6, 4, 2]\n"
          ],
          "name": "stdout"
        }
      ]
    },
    {
      "cell_type": "markdown",
      "metadata": {
        "id": "-l1VJ0khOC8O",
        "colab_type": "text"
      },
      "source": [
        "You can also omit the start and stop arguments if you wish to use their default values. An unspecified start is 0 and an unspecified stop is the length of the list (so the end of the list). Also keep in mind that negative indexes can be used to start at the end of the list and count from right to left instead. See the examples of this below."
      ]
    },
    {
      "cell_type": "code",
      "metadata": {
        "id": "VQ46fU3zOoMM",
        "colab_type": "code",
        "colab": {
          "base_uri": "https://localhost:8080/",
          "height": 119
        },
        "outputId": "b8d42c7c-cb0e-4b8d-cd04-8b332773cfe3"
      },
      "source": [
        "nums = [1, 2, 3, 4, 5, 6, 7, 8, 9, 10]\n",
        "\n",
        "print(nums[:])         # same as previous example - the whole list\n",
        "print(nums[:4])        # same as previous example - first 4 numbers\n",
        "print(nums[7:])        # same as previous example - last 3 numbers\n",
        "print(nums[-3:])       # also the last 3 numbers\n",
        "print(nums[::2])       # same as previous example - odd numbers"
      ],
      "execution_count": null,
      "outputs": [
        {
          "output_type": "stream",
          "text": [
            "[1, 2, 3, 4, 5, 6, 7, 8, 9, 10]\n",
            "[1, 2, 3, 4]\n",
            "[8, 9, 10]\n",
            "[8, 9, 10]\n",
            "[1, 3, 5, 7, 9]\n",
            "[6, 7, 8]\n"
          ],
          "name": "stdout"
        }
      ]
    },
    {
      "cell_type": "markdown",
      "metadata": {
        "id": "mbIiT7-66zAE",
        "colab_type": "text"
      },
      "source": [
        "# Section 11: Strings\n",
        "\n",
        "You have already been working with strings in your programs, but there a lot of things that you can do with them! Let's look at some new ways to deal with strings.\n",
        "\n"
      ]
    },
    {
      "cell_type": "markdown",
      "metadata": {
        "id": "I3AyT0J9ZHOc",
        "colab_type": "text"
      },
      "source": [
        "## 11.1 Indexing / Slicing\n",
        "\n",
        "In the previous section, we looked at how items in lists can be accessed using their index. Did you know that this same concept can be applied to strings as well?\n",
        "\n",
        "Remember the following tips for slicing:\n",
        "\n",
        "*   When counting indexes, it starts at 0\n",
        "*   Syntax is var_name[start:stop:step]\n",
        "*   Start is inclusive\n",
        "*   Stop is exclusive\n",
        "*   Step is optional, and the default is 1\n",
        "*   Negative inexes start from the right, beginning with -1\n",
        "\n",
        "\n",
        "\n",
        "Take a look at the example below."
      ]
    },
    {
      "cell_type": "code",
      "metadata": {
        "id": "VicBELBLaBFK",
        "colab_type": "code",
        "colab": {}
      },
      "source": [
        "name = 'John Johnson'\n",
        "\n",
        "print(name[5])                      # first letter of last name\n",
        "print(name[:4])                     # first name\n",
        "print(name[5:])                     # last name\n",
        "print(name[5:] + ', ' + name[0])    # last name, first inital"
      ],
      "execution_count": null,
      "outputs": []
    },
    {
      "cell_type": "markdown",
      "metadata": {
        "id": "ayy-S_gfcncI",
        "colab_type": "text"
      },
      "source": [
        "## 11.2 Looping\n",
        "\n",
        "Also, similar to lists, you can loop through each character in a string.\n",
        "\n"
      ]
    },
    {
      "cell_type": "code",
      "metadata": {
        "id": "WYVkckPuJVsu",
        "colab_type": "code",
        "colab": {}
      },
      "source": [
        "string = \"Python\"\n",
        "\n",
        "for ch in string:\n",
        "  print(ch)"
      ],
      "execution_count": null,
      "outputs": []
    },
    {
      "cell_type": "markdown",
      "metadata": {
        "id": "Tcm2Ti0zKH7Z",
        "colab_type": "text"
      },
      "source": [
        "## 11.3 in and not in Operators\n",
        "\n",
        "You can also check to see if a string is contained in another string using the in and not in operators."
      ]
    },
    {
      "cell_type": "code",
      "metadata": {
        "id": "WVvxG-S3Kb18",
        "colab_type": "code",
        "colab": {}
      },
      "source": [
        "'P' in 'Python'"
      ],
      "execution_count": null,
      "outputs": []
    },
    {
      "cell_type": "code",
      "metadata": {
        "id": "2Jj96_srLfG_",
        "colab_type": "code",
        "colab": {}
      },
      "source": [
        "'Y' in 'Python'"
      ],
      "execution_count": null,
      "outputs": []
    },
    {
      "cell_type": "code",
      "metadata": {
        "id": "RJRPuOrzLjUN",
        "colab_type": "code",
        "colab": {}
      },
      "source": [
        "'on' in 'Python'"
      ],
      "execution_count": null,
      "outputs": []
    },
    {
      "cell_type": "markdown",
      "metadata": {
        "id": "TKyfCgJZLpvs",
        "colab_type": "text"
      },
      "source": [
        "Remember that these expressions will return True or False. These can be useful when used as a condition in an if statement."
      ]
    },
    {
      "cell_type": "markdown",
      "metadata": {
        "id": "FYlPklwQL1oF",
        "colab_type": "text"
      },
      "source": [
        "## 11.4 Methods\n",
        "\n",
        "You have already been using a few string methods like upper() and lower(), but here we will discuss a few more that are the most useful.\n",
        "\n"
      ]
    },
    {
      "cell_type": "markdown",
      "metadata": {
        "id": "o-fNVPMzRNy3",
        "colab_type": "text"
      },
      "source": [
        "### startswith() / endswith()\n",
        "\n",
        "These two methods are pretty easy to figure out. If the string they are called on starts with (or ends with) the string passed into the method. See the example below."
      ]
    },
    {
      "cell_type": "code",
      "metadata": {
        "id": "kNdhoXzgSBn_",
        "colab_type": "code",
        "colab": {}
      },
      "source": [
        "if 'Hello World'.startswith('Hello'):\n",
        "  print('Yes')"
      ],
      "execution_count": null,
      "outputs": []
    },
    {
      "cell_type": "markdown",
      "metadata": {
        "id": "gTgaluh6nOs_",
        "colab_type": "text"
      },
      "source": [
        "### find() / index()\n",
        "\n",
        "These methods can be used to \"find\" a string within a string. However, the find and index method work a little differently.\n",
        "\n",
        "Both of these methods will search a string and return the index of the start of the substring it is looking for within the string. See an example below.\n",
        "\n"
      ]
    },
    {
      "cell_type": "code",
      "metadata": {
        "id": "w1WlAoJ4nxVk",
        "colab_type": "code",
        "colab": {}
      },
      "source": [
        "string = \"I love Python.\"\n",
        "print(string.find('Python'))\n",
        "print(string.index('Python'))"
      ],
      "execution_count": null,
      "outputs": []
    },
    {
      "cell_type": "markdown",
      "metadata": {
        "id": "OxOKEe0ZpZeW",
        "colab_type": "text"
      },
      "source": [
        "As you can see, both methods returned the same answer in this case. The difference between these methods is how they behave when the substring is not found within the string.\n",
        "\n",
        "The find() method will return -1 if the substring is not in the string it is searching. The index() method will throw an error if the substring is not in the string it is searching. See an example of this below."
      ]
    },
    {
      "cell_type": "code",
      "metadata": {
        "id": "YVmriTc8sMvU",
        "colab_type": "code",
        "colab": {}
      },
      "source": [
        "string = \"I love Python.\"\n",
        "print(string.find('and'))\n",
        "print(string.index('and'))"
      ],
      "execution_count": null,
      "outputs": []
    },
    {
      "cell_type": "markdown",
      "metadata": {
        "id": "ASZTPI3ISS3R",
        "colab_type": "text"
      },
      "source": [
        "### join()\n",
        "\n",
        "The join() method joins a list of strings together into a single string. This one is a bit tricky. Join() is called on a string that you want to join the strings with and passed a list of strings to turn into one string. See the examples below."
      ]
    },
    {
      "cell_type": "code",
      "metadata": {
        "id": "PvS63qDMWztB",
        "colab_type": "code",
        "colab": {
          "base_uri": "https://localhost:8080/",
          "height": 51
        },
        "outputId": "56e6330e-d715-4bb6-b5d7-f383e68571bb"
      },
      "source": [
        "print(', '.join(['apples', 'bananas', 'grapes']))\n",
        "print(' '.join(['Nice', 'to', 'meet', 'you']))"
      ],
      "execution_count": null,
      "outputs": [
        {
          "output_type": "stream",
          "text": [
            "apples, bananas, grapes\n",
            "Nice to meet you\n"
          ],
          "name": "stdout"
        }
      ]
    },
    {
      "cell_type": "markdown",
      "metadata": {
        "id": "tUhpoi1wi4Gf",
        "colab_type": "text"
      },
      "source": [
        "Notice that it seems a bit backwards. The format is (connector string).join([list, of, words]) (obviously replacing all of these with actual values that make sense)."
      ]
    },
    {
      "cell_type": "markdown",
      "metadata": {
        "id": "wMaggLDPXR0s",
        "colab_type": "text"
      },
      "source": [
        "### split()\n",
        "\n",
        "The opposite of the join() method is the split() method. The split method is used on a string to split it into a list of strings (i.e. words). The split method's parameter is the separator - or where you want the string to be split.\n",
        "\n",
        "The default is a space, so if you leave the split parameter blank, it will separate the string on the spaces. See the example below."
      ]
    },
    {
      "cell_type": "code",
      "metadata": {
        "id": "9XoolF8aYj99",
        "colab_type": "code",
        "colab": {}
      },
      "source": [
        "print('I have a dog.'.split())"
      ],
      "execution_count": null,
      "outputs": []
    },
    {
      "cell_type": "markdown",
      "metadata": {
        "id": "IDsCsTYCYwEn",
        "colab_type": "text"
      },
      "source": [
        "### Justifying Text Methods\n",
        "\n",
        "There are several methods that you can utilize to align text in your code's output for visual purposes. This includes rjust(), ljust(), and center(). These methods can be used to make the output more organized or visually appearing.\n",
        "\n",
        "These methods have 2 parameters - length and fillchar. The length is required. It specifies how long you want the sting to be (i.e. it's total length - the string plus additional padding). The fillchar parameter is optional. You can specify what you want the extra space of the string to be filled with. It is a space by default, but notice in the example below how the fillchar is '-' for the first print statement.\n",
        "\n",
        "Look at the example below of how these methods can be used."
      ]
    },
    {
      "cell_type": "code",
      "metadata": {
        "id": "S_F-Np9IZjJk",
        "colab_type": "code",
        "colab": {}
      },
      "source": [
        "print('Cars for Sale'.center(42, '-'))\n",
        "print('YEAR'.ljust(10), 'MAKE/MODEL'.ljust(15), 'PRICE'.rjust(10))\n",
        "print('1995'.ljust(10), 'Ford Bronco'.ljust(15), '13,995'.rjust(10))\n",
        "print('2006'.ljust(10), 'Honda Civic'.ljust(15), '5,000'.rjust(10))\n",
        "print('2014'.ljust(10), 'Ford Mustang'.ljust(15), '19,900'.rjust(10))"
      ],
      "execution_count": null,
      "outputs": []
    },
    {
      "cell_type": "markdown",
      "metadata": {
        "id": "ZYGZw_Fpe4yW",
        "colab_type": "text"
      },
      "source": [
        "# Section 12: String Formatting\n",
        "\n",
        "So far we've just been using concatenation to format our strings, but there are multiple ways that you can format a string in Python."
      ]
    },
    {
      "cell_type": "markdown",
      "metadata": {
        "id": "REhtoKolhrdM",
        "colab_type": "text"
      },
      "source": [
        "## 12.1 The C Way\n",
        "\n",
        "One way to format strings in Python is to use the % to indicate where a variable's value should be substituted in. This format is based off of the C programming language."
      ]
    },
    {
      "cell_type": "code",
      "metadata": {
        "id": "RwUWHU1fidwP",
        "colab_type": "code",
        "colab": {}
      },
      "source": [
        "name = 'Joe'\n",
        "print('Hi %s, how are you?' % name)"
      ],
      "execution_count": null,
      "outputs": []
    },
    {
      "cell_type": "markdown",
      "metadata": {
        "id": "B6_Y9z93iwZO",
        "colab_type": "text"
      },
      "source": [
        "The %s part is called a conversion specifier. The 's' stands for string. So, the value being substituted will be formatted as a string.\n",
        "\n",
        "Another common one is 'f' for float. You can specify the number of decimal places you want the value to be formatted with by using a period and then the number of decimal places after the percent sign. See an example of this below."
      ]
    },
    {
      "cell_type": "code",
      "metadata": {
        "id": "S9u9mf-Njbbl",
        "colab_type": "code",
        "colab": {}
      },
      "source": [
        "num1 = 2\n",
        "num2 = 10\n",
        "print('%.2f + %.2f = %.2f' % (num1, num2, num1+num2))"
      ],
      "execution_count": null,
      "outputs": []
    },
    {
      "cell_type": "markdown",
      "metadata": {
        "id": "ej7X-diulWNw",
        "colab_type": "text"
      },
      "source": [
        "## 12.2 Format String Method\n",
        "\n",
        "The format string method is the newer, more common way of using the previous formatting method. It's syntax works in a very similar way.\n",
        "\n",
        "The replacement fields are now marked by curly brackets and then you use '.format() at the end of the string, passing in the values for the string as parameters.\n",
        "\n",
        "The example below shows the simplest use of the format string method."
      ]
    },
    {
      "cell_type": "code",
      "metadata": {
        "id": "72msPgKxm8yt",
        "colab_type": "code",
        "colab": {}
      },
      "source": [
        "print('My classes today are {} and {}.'.format('criminal justice', 'programming'))"
      ],
      "execution_count": null,
      "outputs": []
    },
    {
      "cell_type": "markdown",
      "metadata": {
        "id": "Kq-gj8v3ooEe",
        "colab_type": "text"
      },
      "source": [
        "You can also use numbered indexes to specify the values in the format string method. Notice how by using the index, they don't have to be in order."
      ]
    },
    {
      "cell_type": "code",
      "metadata": {
        "id": "NH7-rNjso097",
        "colab_type": "code",
        "colab": {}
      },
      "source": [
        "print('My favorite dog is the {1}, but I also like {0} and {2}.'.format('Corgis','Australian Shepherd','Boxers'))"
      ],
      "execution_count": null,
      "outputs": []
    },
    {
      "cell_type": "markdown",
      "metadata": {
        "id": "l9E88sdPpq-Z",
        "colab_type": "text"
      },
      "source": [
        "Another way you can use the format string method is by using named fields."
      ]
    },
    {
      "cell_type": "code",
      "metadata": {
        "id": "Ur-1j8r9quxw",
        "colab_type": "code",
        "colab": {}
      },
      "source": [
        "print('My {subject} class is at {time}.'.format(subject='Python', time='10:00am'))"
      ],
      "execution_count": null,
      "outputs": []
    },
    {
      "cell_type": "markdown",
      "metadata": {
        "id": "ffXP6ku5rx0g",
        "colab_type": "text"
      },
      "source": [
        "## 12.3 String Interpolation with f-strings\n",
        "\n",
        "The last form of string formatting is f-strings. The syntax for f-strings is similar to the format string method, but you begin the string with an 'f' and then the curly brackets hold expressions that will be replaced with their values at runtime. See a simple example below."
      ]
    },
    {
      "cell_type": "code",
      "metadata": {
        "id": "GF-vfEJ-HpRL",
        "colab_type": "code",
        "colab": {}
      },
      "source": [
        "month = 'October'\n",
        "day = 2\n",
        "\n",
        "print(f'My birthday is on the {day}nd of {month}.')"
      ],
      "execution_count": null,
      "outputs": []
    },
    {
      "cell_type": "markdown",
      "metadata": {
        "id": "Q9z3CP0PKVup",
        "colab_type": "text"
      },
      "source": [
        "Now let's look at some more advanced features of f-strings. You can specify different formatting options for the visual appearance of your code, including width, alignment, data types, and precision (number of decimal places).\n",
        "\n",
        "The basic syntax is as follows:\n",
        "\n",
        "{variable:(alignment)(width).(precision)(datatype)}\n",
        "\n",
        "Just like before, you put the variable in curly brackets, and formatting options are indicated by a colon after that variable or expression. Obviously, you will replace what is in the parenthesis with a value depending on the format you want. \n",
        "\n",
        "The alignment field specifies how you want the expression to be aligned. It can be centered (^), left aligned (<), or right aligned (>). The width field specifies just that - the total width that the value will take up. It will add extra spaces by default to meet the width that is specified. Then, if the expression is a number, you can specify the number of decimal places that will be displayed by putting a period and then the number of decimal places. Finally, you can specify the data type. The most common are string and float, or s and f respectively.\n",
        "\n",
        "Got all that??? Don't worry, below is an example to help.\n",
        "\n",
        "\n"
      ]
    },
    {
      "cell_type": "code",
      "metadata": {
        "id": "xbuE4ptxWmdW",
        "colab_type": "code",
        "colab": {
          "base_uri": "https://localhost:8080/",
          "height": 119
        },
        "outputId": "fa271fca-2915-446d-e996-c27c3b21c4b4"
      },
      "source": [
        "item1 = 'Vanilla Iced Coffee'\n",
        "price1 = 2.9\n",
        "\n",
        "item2 = 'Chocolate Donut'\n",
        "price2 = 1\n",
        "\n",
        "print(f'{\"RECEIPT\":^35s}')\n",
        "print('.' * 35)\n",
        "print(f'{item1:<25s}{price1:>10.2f}')\n",
        "print(f'{item2:<25s}{price2:>10.2f}')\n",
        "print('.' * 35)\n",
        "print(f'{\"TOTAL\":>25s}{(price1 + price2):>10.2f}')"
      ],
      "execution_count": null,
      "outputs": [
        {
          "output_type": "stream",
          "text": [
            "              RECEIPT              \n",
            "...................................\n",
            "Vanilla Iced Coffee            2.90\n",
            "Chocolate Donut                1.00\n",
            "...................................\n",
            "                    TOTAL      3.90\n"
          ],
          "name": "stdout"
        }
      ]
    },
    {
      "cell_type": "markdown",
      "metadata": {
        "id": "yHO72edeQoeP",
        "colab_type": "text"
      },
      "source": [
        "Notice a few things about the example above:\n",
        "\n",
        "1. You can use f-string formatting with a literal string, like in the first line that is printed.\n",
        "2. You can use an arbitrary expression with f-string formatting since the expressions are evaluated at runttime. (Such as in the last printed line where it shows the total price of the two items).\n",
        "3. Notice how in the first print statement, single quotes were used to surround the entire f-string, but double quotes were used to surround the string used in the f-string. *** This is extremely important to remember. It will cause a lot of frustration if you do not use different types of quotes. See more about this in the next section. ***"
      ]
    },
    {
      "cell_type": "markdown",
      "metadata": {
        "id": "4DfqCDV2FEnG",
        "colab_type": "text"
      },
      "source": [
        "## 12.4 Technicalities\n",
        "\n",
        "As said before, there is one major technicality you should remember when trying to use f-strings. Quotes matter, and will make a difference between successful code or an error. See some examples and explanations below."
      ]
    },
    {
      "cell_type": "code",
      "metadata": {
        "id": "4q3I8lswF3yQ",
        "colab_type": "code",
        "colab": {}
      },
      "source": [
        "# This works:\n",
        "\n",
        "print(f'{\"Hello\":>15s}')\n",
        "\n",
        "# Notice the contradicting use of quotations."
      ],
      "execution_count": null,
      "outputs": []
    },
    {
      "cell_type": "code",
      "metadata": {
        "id": "TQlrOJ8GHThO",
        "colab_type": "code",
        "colab": {}
      },
      "source": [
        "# This will NOT work:\n",
        "\n",
        "print(f'{'Hello':>15s}')\n",
        "\n",
        "\n",
        "# Notice how the quotes are the same. \n",
        "# You can make this code work by changing the quotes around 'Hello' to double quotes."
      ],
      "execution_count": null,
      "outputs": []
    },
    {
      "cell_type": "markdown",
      "metadata": {
        "id": "vxI_z_1bVvLE",
        "colab_type": "text"
      },
      "source": [
        "# Section 13: Dictionaries\n",
        "\n",
        "Dictionaries are yet another data type in Python. They are similar to lists, because dictionaries contain a set of multiple values. However, with dictionaries, the index is called a *key* and can be of many different data type; with lists, indexes are always ints. Also, dictionaries use curly braces while lists use square brackets. See an example of how to initialize a dictionary below."
      ]
    },
    {
      "cell_type": "code",
      "metadata": {
        "id": "303Z5bFb-nR6",
        "colab_type": "code",
        "colab": {}
      },
      "source": [
        "car = {'make': 'Ford', 'model': 'Bronco', 'year': 1995}"
      ],
      "execution_count": null,
      "outputs": []
    },
    {
      "cell_type": "markdown",
      "metadata": {
        "id": "hCaIFdV2_zTj",
        "colab_type": "text"
      },
      "source": [
        "In this case, car is a dictionary that contains details about a vehicle. The keys of this dictionary are 'make', 'model', and 'year'. The values of this dictionary are 'Ford', 'Bronco', and 1995."
      ]
    },
    {
      "cell_type": "markdown",
      "metadata": {
        "id": "-wCL2vBu35yN",
        "colab_type": "text"
      },
      "source": [
        "## 13.1 Dictionaries vs. Lists\n",
        "\n",
        "We have already discussed some differences between lists and dictionaries, including the type of brackets used for each and the difference between indexes with each, but let's look at some additional differences.\n",
        "\n",
        "One important difference is that items in dictionaries are unordered. This means that order does not matter with dictionaries since they are not indexed with a numbered index. Also, since they are unordered, they cannot be sliced like lists can.\n",
        "\n",
        "Below is a summarized comparison of dictionaries and lists.\n",
        "\n",
        "**Dictionaries**&nbsp;&nbsp;&nbsp;&nbsp;&nbsp;&nbsp;&nbsp;&nbsp;&nbsp;&nbsp;&nbsp;&nbsp;&nbsp;&nbsp;&nbsp;&nbsp;&nbsp;&nbsp;&nbsp;&nbsp;&nbsp;&nbsp;&nbsp;&nbsp;&nbsp;&nbsp;&nbsp;&nbsp;&nbsp;&nbsp;&nbsp;&nbsp;&nbsp;&nbsp;&nbsp;&nbsp;&nbsp;&nbsp;&nbsp;&nbsp;&nbsp;&nbsp;&nbsp;&nbsp;&nbsp;&nbsp;&nbsp;&nbsp;&nbsp;&nbsp;&nbsp;**Lists**\n",
        "\n",
        "&nbsp;&nbsp;&nbsp;&nbsp;&nbsp;&nbsp;&nbsp;\\- Uses key to access value&nbsp;&nbsp;&nbsp;&nbsp;&nbsp;&nbsp;&nbsp;&nbsp;&nbsp;&nbsp;&nbsp;&nbsp;&nbsp;&nbsp;&nbsp;&nbsp;&nbsp;&nbsp;&nbsp;&nbsp;&nbsp;&nbsp;&nbsp; \\- Uses numbered index to access items\n",
        "\n",
        "&nbsp;&nbsp;&nbsp;&nbsp;&nbsp;&nbsp;&nbsp;\\- Uses curly braces, { } &nbsp;&nbsp;&nbsp;&nbsp;&nbsp;&nbsp;&nbsp;&nbsp;&nbsp;&nbsp;&nbsp;&nbsp;&nbsp;&nbsp;&nbsp;&nbsp;&nbsp;&nbsp;&nbsp;&nbsp;&nbsp;&nbsp;&nbsp;&nbsp;&nbsp;&nbsp;&nbsp;&nbsp;&nbsp;&nbsp; \\- Uses square brackets, [ ]\n",
        "\n",
        "&nbsp;&nbsp;&nbsp;&nbsp;&nbsp;&nbsp;&nbsp;\\- Unordered &nbsp;&nbsp;&nbsp;&nbsp;&nbsp;&nbsp;&nbsp;&nbsp;&nbsp;&nbsp;&nbsp;&nbsp;&nbsp;&nbsp;&nbsp;&nbsp;&nbsp;&nbsp;&nbsp;&nbsp;&nbsp;&nbsp;&nbsp;&nbsp;&nbsp;&nbsp;&nbsp;&nbsp;&nbsp;&nbsp;&nbsp;&nbsp;&nbsp;&nbsp;&nbsp;&nbsp;&nbsp;&nbsp;&nbsp;&nbsp;&nbsp;&nbsp;&nbsp;&nbsp;&nbsp;&nbsp;&nbsp;&nbsp; \\- Ordered\n",
        "\n",
        "&nbsp;&nbsp;&nbsp;&nbsp;&nbsp;&nbsp;&nbsp;\\- Cannot be sliced &nbsp;&nbsp;&nbsp;&nbsp;&nbsp;&nbsp;&nbsp;&nbsp;&nbsp;&nbsp;&nbsp;&nbsp;&nbsp;&nbsp;&nbsp;&nbsp;&nbsp;&nbsp;&nbsp;&nbsp;&nbsp;&nbsp;&nbsp;&nbsp;&nbsp;&nbsp;&nbsp;&nbsp;&nbsp;&nbsp;&nbsp;&nbsp;&nbsp;&nbsp;&nbsp;&nbsp;&nbsp; \\- Can be sliced using indexes\n",
        "\n"
      ]
    },
    {
      "cell_type": "markdown",
      "metadata": {
        "id": "zEjCb4Ho_GIj",
        "colab_type": "text"
      },
      "source": [
        "## 13.2 Access a Value\n",
        "\n",
        "Accessing a value in a dictionary is similar to the way you access an item in a list, except you use the key rather than a numbered index."
      ]
    },
    {
      "cell_type": "code",
      "metadata": {
        "id": "fZafTtTZCXYT",
        "colab_type": "code",
        "colab": {}
      },
      "source": [
        "car = {'make': 'Ford', 'model': 'Bronco', 'year': 1995}\n",
        "\n",
        "# Access the value\n",
        "print(car['model'])\n",
        "\n",
        "# Accessing the value within a string\n",
        "print(f\"I have a {str(car['year'])} {car['make']} {car['model']}\")\n",
        "\n",
        "\n",
        "# IMPORTANT: Notice when using dictionaries with f-strings, be careful with the quotes.\n",
        "# Remember, they have to be different. Use double quotes to surround the entire f-string and\n",
        "# then single quotes around the keys of the dictionary you reference.\n"
      ],
      "execution_count": null,
      "outputs": []
    },
    {
      "cell_type": "markdown",
      "metadata": {
        "id": "OSdANT23Kc57",
        "colab_type": "text"
      },
      "source": [
        "## 13.3 Add / Change a Value\n",
        "\n",
        "For dictionaries, the syntax for adding a value and changing a value are the same. You will use the square brackets to define or access an existing key and then use the assignment operator to assign it a value."
      ]
    },
    {
      "cell_type": "code",
      "metadata": {
        "id": "5kitLnAlLMHK",
        "colab_type": "code",
        "colab": {}
      },
      "source": [
        "car = {'make': 'Ford', 'model': 'Bronco', 'year': 1995}\n",
        "\n",
        "# Add a value\n",
        "car['color'] = 'black'\n",
        "\n",
        "print(car)\n",
        "\n",
        "# Change a value\n",
        "car['year'] = 1979\n",
        "\n",
        "print(car)"
      ],
      "execution_count": null,
      "outputs": []
    },
    {
      "cell_type": "markdown",
      "metadata": {
        "id": "PrPKo6zIMJ9w",
        "colab_type": "text"
      },
      "source": [
        "## 13.4 Remove a Value\n",
        "\n",
        "To remove a key/value pair from a dictionary, you use the del key word followed by the dictionary name and key in square brackets (like you would to access its value)."
      ]
    },
    {
      "cell_type": "code",
      "metadata": {
        "id": "-ymhAsdrN84-",
        "colab_type": "code",
        "colab": {}
      },
      "source": [
        "car = {'make': 'Ford', 'model': 'Bronco', 'year': 1995, 'color': 'black'}\n",
        "\n",
        "del car['color']\n",
        "\n",
        "print(car)"
      ],
      "execution_count": null,
      "outputs": []
    },
    {
      "cell_type": "markdown",
      "metadata": {
        "id": "FiIIccapnNWQ",
        "colab_type": "text"
      },
      "source": [
        "## 13.5 Methods\n",
        "\n",
        "Like lists, dictionaries also have a few methods that can be used with them. These include the keys(), values(), and items() methods. The keys() method will return a list-like object of only the keys in the dictionary, while the values() method returns a list-like object of only the values. The items() method returns a list of the dictionary's key/value pairs."
      ]
    },
    {
      "cell_type": "code",
      "metadata": {
        "id": "D8eHBSvnoxvM",
        "colab_type": "code",
        "colab": {}
      },
      "source": [
        "car = {'make': 'Ford', 'model': 'Bronco', 'year': 1995}\n",
        "\n",
        "print(car.keys())\n",
        "print(car.values())\n",
        "print(car.items())"
      ],
      "execution_count": null,
      "outputs": []
    },
    {
      "cell_type": "markdown",
      "metadata": {
        "id": "ineUACBwpE4s",
        "colab_type": "text"
      },
      "source": [
        "These methods are useful for looping over the keys/values in a dictionary, which we will look at next."
      ]
    },
    {
      "cell_type": "markdown",
      "metadata": {
        "id": "9AcquzHIpTIM",
        "colab_type": "text"
      },
      "source": [
        "## 13.6 Looping\n",
        "\n",
        "You can loop over the items in a dictionary just as you can a list using a for loop. Now is where the methods from the previous section come in handy. You can choose whether you want to iterate over the keys or the values by using the methods above. See the examples below for how to loop through the keys or values in a dictionary."
      ]
    },
    {
      "cell_type": "code",
      "metadata": {
        "id": "FUbmCm7xpgPg",
        "colab_type": "code",
        "colab": {}
      },
      "source": [
        "car = {'make': 'Ford', 'model': 'Bronco', 'year': 1995}\n",
        "\n",
        "# iterate over keys\n",
        "for key in car.keys():\n",
        "  print(key)\n",
        "print()\n",
        "\n",
        "# iterate over values\n",
        "for val in car.values():\n",
        "  print(val)\n",
        "print()\n",
        "\n",
        "# iterate over the key/value pairs, where k is key and v is value\n",
        "for k, v in car.items():\n",
        "  print(f\"The {k} is {v}\")"
      ],
      "execution_count": null,
      "outputs": []
    },
    {
      "cell_type": "markdown",
      "metadata": {
        "id": "2TDlSYEDqv-m",
        "colab_type": "text"
      },
      "source": [
        "## 13.7 Check if Key or Value Exists\n",
        "\n",
        "There are two ways to check if a key/value exists in a dictionary. The first is just to use the 'in' operator."
      ]
    },
    {
      "cell_type": "code",
      "metadata": {
        "id": "qW1I5F1xrG2y",
        "colab_type": "code",
        "colab": {}
      },
      "source": [
        "car = {'make': 'Ford', 'model': 'Bronco', 'year': 1995}\n",
        "\n",
        "print('Ford' in car.values())\n",
        "print('Honda' in car.values())\n",
        "print('color' in car.keys())"
      ],
      "execution_count": null,
      "outputs": []
    },
    {
      "cell_type": "markdown",
      "metadata": {
        "id": "2qTAkXXQrXO-",
        "colab_type": "text"
      },
      "source": [
        "The other way is to use the get() method. The get() method accepts two parameters - the key and a default value to return if the key does not exist."
      ]
    },
    {
      "cell_type": "code",
      "metadata": {
        "id": "_LJQzWr3ruPe",
        "colab_type": "code",
        "colab": {}
      },
      "source": [
        "car = {'make': 'Ford', 'model': 'Bronco', 'year': 1995}\n",
        "\n",
        "print(f\"I drive a {car.get('model', 'car')}.\")\n",
        "print(f\"My car is {car.get('color', 'black')}.\")"
      ],
      "execution_count": null,
      "outputs": []
    },
    {
      "cell_type": "markdown",
      "metadata": {
        "id": "haS8UPKStSRZ",
        "colab_type": "text"
      },
      "source": [
        "Notice how in the example above, the first one prints the corresponding value to the key we passed in because that key was in the dictionary. The default value was ignored. However, in the second one, the defualt value was used because the dictionary does not have a key called 'color'."
      ]
    },
    {
      "cell_type": "markdown",
      "metadata": {
        "id": "nJkMlBRnMODh",
        "colab_type": "text"
      },
      "source": [
        "# Section 14: Regular Expressions\n",
        "\n",
        "Regular expressions are used to find patterns in a string. For example, if you are looking for a phone number, usually it will be in a format somewhat like the following: 123-123-1234; three numbers, a dash, three numbers, a dash, and then four numbers.\n",
        "\n",
        "See the example below for the steps of creating and using a regular expression and then we will go into more detail about the \"rules\" for them."
      ]
    },
    {
      "cell_type": "code",
      "metadata": {
        "id": "sJfdF0WQPD4d",
        "colab_type": "code",
        "colab": {}
      },
      "source": [
        "import re                                               # 1) Import re module\n",
        "\n",
        "sentence = 'The python class is the best class.'\n",
        "\n",
        "exp = re.compile(r'[Tt]he')                             # 2) Create the regex using a raw string\n",
        "matches = exp.findall(sentence)                         # 3) Use a method to search the string\n",
        "for match in matches:\n",
        "  print(f'FOUND: {match}')                              # 4) Now you can see what matches the regex"
      ],
      "execution_count": null,
      "outputs": []
    },
    {
      "cell_type": "markdown",
      "metadata": {
        "id": "IxevHbac1JK8",
        "colab_type": "text"
      },
      "source": [
        "## 14.1 Character Classes\n",
        "\n",
        "The following is a list of character classes. Each of these used in a regular expression represents ONE character (unless otherwise specified).\n",
        "\n",
        "&nbsp;&nbsp;&nbsp;&nbsp;&nbsp;&nbsp;&nbsp;&nbsp;&nbsp;\\s&nbsp;&nbsp;&nbsp;&nbsp;&nbsp;&nbsp;&nbsp;&nbsp;&nbsp;&nbsp;&nbsp;&nbsp;&nbsp;&nbsp;&nbsp;&nbsp;&nbsp;&nbsp;space character\n",
        "\n",
        "&nbsp;&nbsp;&nbsp;&nbsp;&nbsp;&nbsp;&nbsp;&nbsp;&nbsp;\\d&nbsp;&nbsp;&nbsp;&nbsp;&nbsp;&nbsp;&nbsp;&nbsp;&nbsp;&nbsp;&nbsp;&nbsp;&nbsp;&nbsp;&nbsp;&nbsp;&nbsp;&nbsp;digit\n",
        "\n",
        "&nbsp;&nbsp;&nbsp;&nbsp;&nbsp;&nbsp;&nbsp;&nbsp;&nbsp;\\w&nbsp;&nbsp;&nbsp;&nbsp;&nbsp;&nbsp;&nbsp;&nbsp;&nbsp;&nbsp;&nbsp;&nbsp;&nbsp;&nbsp;&nbsp;&nbsp;&nbsp;word (includes 0 - 9)\n",
        "\n",
        "&nbsp;&nbsp;&nbsp;&nbsp;&nbsp;&nbsp;&nbsp;&nbsp;&nbsp;\\S&nbsp;&nbsp;&nbsp;&nbsp;&nbsp;&nbsp;&nbsp;&nbsp;&nbsp;&nbsp;&nbsp;&nbsp;&nbsp;&nbsp;&nbsp;&nbsp;&nbsp;&nbsp;anything except space\n",
        "\n",
        "&nbsp;&nbsp;&nbsp;&nbsp;&nbsp;&nbsp;&nbsp;&nbsp;&nbsp;\\D&nbsp;&nbsp;&nbsp;&nbsp;&nbsp;&nbsp;&nbsp;&nbsp;&nbsp;&nbsp;&nbsp;&nbsp;&nbsp;&nbsp;&nbsp;&nbsp;&nbsp;&nbsp;anything except digit\n",
        "\n",
        "&nbsp;&nbsp;&nbsp;&nbsp;&nbsp;&nbsp;&nbsp;&nbsp;&nbsp;\\W&nbsp;&nbsp;&nbsp;&nbsp;&nbsp;&nbsp;&nbsp;&nbsp;&nbsp;&nbsp;&nbsp;&nbsp;&nbsp;&nbsp;&nbsp;&nbsp;&nbsp;anything except word\n",
        "\n",
        "As an example, lets say that we wanted an expression to pick out the usernames from a database. The usernames are all in the format of {first initial}_{last initial}{number}. How do we represent that pattern as a regular expression?\n",
        "\n",
        "The pattern by character type is: {word}_{word}{number}. \n",
        "\n",
        "So using our character classes, our regular expression would be: /w_/w/d."
      ]
    },
    {
      "cell_type": "markdown",
      "metadata": {
        "id": "pLzmX3Ar5eA9",
        "colab_type": "text"
      },
      "source": [
        "## 14.2 Custom Character Classes\n",
        "\n",
        "You can also create custom character classes so that you can include (or exclude) certain characters. Custon character classes are represented by square brackets. Below is a list of \"rules\" for custom character classes.\n",
        "\n",
        "&nbsp;&nbsp;&nbsp;&nbsp;&nbsp;&nbsp;&nbsp;&nbsp;&nbsp;[and]&nbsp;&nbsp;&nbsp;&nbsp;&nbsp;&nbsp;&nbsp;&nbsp;&nbsp;&nbsp;&nbsp;&nbsp;&nbsp;&nbsp;&nbsp;&nbsp;finds a or n or d (NOT the whole word, just one of the letters)\n",
        "\n",
        "&nbsp;&nbsp;&nbsp;&nbsp;&nbsp;&nbsp;&nbsp;&nbsp;&nbsp;[Tt]&nbsp;&nbsp;&nbsp;&nbsp;&nbsp;&nbsp;&nbsp;&nbsp;&nbsp;&nbsp;&nbsp;&nbsp;&nbsp;&nbsp;&nbsp;&nbsp;&nbsp;&nbsp;&nbsp;finds T or t (helpful if you don't know the case of the word or have multiples of that word)\n",
        "\n",
        "&nbsp;&nbsp;&nbsp;&nbsp;&nbsp;&nbsp;&nbsp;&nbsp;&nbsp;[0-5]&nbsp;&nbsp;&nbsp;&nbsp;&nbsp;&nbsp;&nbsp;&nbsp;&nbsp;&nbsp;&nbsp;&nbsp;&nbsp;&nbsp;&nbsp;&nbsp;&nbsp;finds 0, 1, 2, 3, 4, or 5\n",
        "\n",
        "&nbsp;&nbsp;&nbsp;&nbsp;&nbsp;&nbsp;&nbsp;&nbsp;&nbsp;[v-z]&nbsp;&nbsp;&nbsp;&nbsp;&nbsp;&nbsp;&nbsp;&nbsp;&nbsp;&nbsp;&nbsp;&nbsp;&nbsp;&nbsp;&nbsp;&nbsp;&nbsp;finds v, w, x, y, or z\n",
        "\n",
        "Now let's look at some examples of how to use custom character classes:\n",
        "\n",
        "* If you wanted to find a word that started with a vowel, your regex would be: [aeiou]+ (you will learn what the + means in the next section).\n",
        "\n",
        "* If you wanted to find only phone numbers that started with the numbers 5-7, your regex would be: [5-7]/d/d-/d/d/d-/d/d/d/d."
      ]
    },
    {
      "cell_type": "markdown",
      "metadata": {
        "id": "jMF0NBiF_9MX",
        "colab_type": "text"
      },
      "source": [
        "## 14.3 Quantifiers\n",
        "\n",
        "The following is a list of quantifiers. It specifies the number of \"things\" you want to find.\n",
        "\n",
        "&nbsp;&nbsp;&nbsp;&nbsp;&nbsp;&nbsp;&nbsp;&nbsp;&nbsp;/w{3}&nbsp;&nbsp;&nbsp;&nbsp;&nbsp;&nbsp;&nbsp;&nbsp;&nbsp;&nbsp;&nbsp;&nbsp;&nbsp;&nbsp;&nbsp;&nbsp;finds 3 word characters\n",
        "\n",
        "&nbsp;&nbsp;&nbsp;&nbsp;&nbsp;&nbsp;&nbsp;&nbsp;&nbsp;/d{2,4}&nbsp;&nbsp;&nbsp;&nbsp;&nbsp;&nbsp;&nbsp;&nbsp;&nbsp;&nbsp;&nbsp;&nbsp;&nbsp;&nbsp;finds 2, 3, or 4 digits\n",
        "\n",
        "&nbsp;&nbsp;&nbsp;&nbsp;&nbsp;&nbsp;&nbsp;&nbsp;&nbsp;/d{,3}&nbsp;&nbsp;&nbsp;&nbsp;&nbsp;&nbsp;&nbsp;&nbsp;&nbsp;&nbsp;&nbsp;&nbsp;&nbsp;&nbsp;&nbsp;&nbsp;finds up to 3 digits\n",
        "\n",
        "&nbsp;&nbsp;&nbsp;&nbsp;&nbsp;&nbsp;&nbsp;&nbsp;&nbsp;/d{3,}&nbsp;&nbsp;&nbsp;&nbsp;&nbsp;&nbsp;&nbsp;&nbsp;&nbsp;&nbsp;&nbsp;&nbsp;&nbsp;&nbsp;&nbsp;&nbsp;finds at least 3 digits\n",
        "\n",
        "&nbsp;&nbsp;&nbsp;&nbsp;&nbsp;&nbsp;&nbsp;&nbsp;&nbsp;/w?&nbsp;&nbsp;&nbsp;&nbsp;&nbsp;&nbsp;&nbsp;&nbsp;&nbsp;&nbsp;&nbsp;&nbsp;&nbsp;&nbsp;&nbsp;&nbsp;finds 0 or 1 word characters\n",
        "\n",
        "&nbsp;&nbsp;&nbsp;&nbsp;&nbsp;&nbsp;&nbsp;&nbsp;&nbsp;/w*&nbsp;&nbsp;&nbsp;&nbsp;&nbsp;&nbsp;&nbsp;&nbsp;&nbsp;&nbsp;&nbsp;&nbsp;&nbsp;&nbsp;&nbsp;&nbsp;finds 0 or many word characters\n",
        "\n",
        "&nbsp;&nbsp;&nbsp;&nbsp;&nbsp;&nbsp;&nbsp;&nbsp;&nbsp;/w+&nbsp;&nbsp;&nbsp;&nbsp;&nbsp;&nbsp;&nbsp;&nbsp;&nbsp;&nbsp;&nbsp;&nbsp;&nbsp;&nbsp;&nbsp;&nbsp;finds 1 or many word characters\n"
      ]
    },
    {
      "cell_type": "markdown",
      "metadata": {
        "id": "Ldw_uzH0YwS_",
        "colab_type": "text"
      },
      "source": [
        "## 14.4 Methods\n",
        "\n",
        "There are a few different methods that you can use with a regex to find matches.\n",
        "\n",
        "&nbsp;&nbsp;&nbsp;&nbsp;&nbsp;&nbsp;&nbsp;&nbsp;&nbsp;search()&nbsp;&nbsp;&nbsp;&nbsp;&nbsp;&nbsp;&nbsp;&nbsp;&nbsp;&nbsp;&nbsp;&nbsp;&nbsp;&nbsp;&nbsp;&nbsp;&nbsp;FIRST matched text in string\n",
        "\n",
        "&nbsp;&nbsp;&nbsp;&nbsp;&nbsp;&nbsp;&nbsp;&nbsp;&nbsp;findall()&nbsp;&nbsp;&nbsp;&nbsp;&nbsp;&nbsp;&nbsp;&nbsp;&nbsp;&nbsp;&nbsp;&nbsp;&nbsp;&nbsp;&nbsp;&nbsp;&nbsp;&nbsp;EVERY match in the string"
      ]
    },
    {
      "cell_type": "markdown",
      "metadata": {
        "id": "NInvMjX6ccQL",
        "colab_type": "text"
      },
      "source": [
        "## 14.5 Example\n",
        "\n",
        "Let's look at an example of how useful regular expressions can be in code.\n",
        "\n",
        "For this example, let's say that we are trying to find only Georgia license plates in a list of license plates. The current plates in Georgia are issued in the following pattern: ABC1234. (For this example, assume that other states use their own patterns for issuing license plates even though some states do use this same pattern).\n",
        "\n",
        "Now let's look at the code to see how this could be done using regular expressions."
      ]
    },
    {
      "cell_type": "code",
      "metadata": {
        "id": "eU458zV_dmmW",
        "colab_type": "code",
        "colab": {}
      },
      "source": [
        "import re\n",
        "\n",
        "license_plates = ['BBX-0228', 'PXE9860', '482 AAV', '281703', 'PTV9468', 'RJW8676', '839-VGA']\n",
        "\n",
        "ga_plate = re.compile(r'\\w{3}\\d{4}')\n",
        "ga_plate = re.compile(r'\\w\\w\\w\\d\\d\\d\\d')\n",
        "\n",
        "for plate in license_plates:\n",
        "  if ga_plate.search(plate):\n",
        "    print(f'GA Plate Found: {plate}')\n"
      ],
      "execution_count": null,
      "outputs": []
    },
    {
      "cell_type": "markdown",
      "metadata": {
        "id": "ptMALmgugeTK",
        "colab_type": "text"
      },
      "source": [
        "# Section 15: Reading and Writing to Files\n",
        "\n",
        "What if you have a program that gives output that you want to save for later? You can save the output to a file!"
      ]
    },
    {
      "cell_type": "markdown",
      "metadata": {
        "id": "yeB1-nN-h1ap",
        "colab_type": "text"
      },
      "source": [
        "## 15.1 Vocabulary\n",
        "\n",
        "Before we begin discussing how to read/write to files with Python, you need to understand the hierarchy of files on your computer. The following vocabulary will be useful to know.\n",
        "\n",
        "&nbsp;&nbsp;&nbsp;&nbsp;&nbsp;&nbsp;&nbsp;&nbsp;&nbsp;filename&nbsp;&nbsp;&nbsp;&nbsp;&nbsp;&nbsp;&nbsp;&nbsp;&nbsp;&nbsp;&nbsp;&nbsp;&nbsp;&nbsp;&nbsp;&nbsp;&nbsp;&nbsp;name of a specific file (ex. *file.docx*)\n",
        "\n",
        "&nbsp;&nbsp;&nbsp;&nbsp;&nbsp;&nbsp;&nbsp;&nbsp;&nbsp;file path&nbsp;&nbsp;&nbsp;&nbsp;&nbsp;&nbsp;&nbsp;&nbsp;&nbsp;&nbsp;&nbsp;&nbsp;&nbsp;&nbsp;&nbsp;&nbsp;&nbsp;&nbsp;&nbsp;the location of the file (ex. *C:\\Users\\john\\Documents*)\n",
        "\n",
        "&nbsp;&nbsp;&nbsp;&nbsp;&nbsp;&nbsp;&nbsp;&nbsp;&nbsp;extension&nbsp;&nbsp;&nbsp;&nbsp;&nbsp;&nbsp;&nbsp;&nbsp;&nbsp;&nbsp;&nbsp;&nbsp;&nbsp;&nbsp;&nbsp;&nbsp;the file's type (ex. *docx*)\n",
        "\n",
        "&nbsp;&nbsp;&nbsp;&nbsp;&nbsp;&nbsp;&nbsp;&nbsp;&nbsp;root folder&nbsp;&nbsp;&nbsp;&nbsp;&nbsp;&nbsp;&nbsp;&nbsp;&nbsp;&nbsp;&nbsp;&nbsp;&nbsp;&nbsp;contains all other folders (in Windows, it is called C:\\)\n"
      ]
    },
    {
      "cell_type": "markdown",
      "metadata": {
        "id": "9xt_OPsKkF_4",
        "colab_type": "text"
      },
      "source": [
        "## 15.2 Absolute vs. Relative Paths\n",
        "\n",
        "There are two ways that you can specify the path to a file: absolute and relative. An absolute path begins with the root folder and lists out the entire file's path. On the other hand, a relative path gives the path in relation to the current working directory.\n",
        "\n",
        "Relative paths use special names for folders, represented by either a single period or two periods. A single period means \"this directory\" while two periods means \"the parent directory\"."
      ]
    },
    {
      "cell_type": "markdown",
      "metadata": {
        "id": "7lPlCwA4Vcat",
        "colab_type": "text"
      },
      "source": [
        "Below is a graphic to show the difference between absolute and relative paths. The blue arrow represents the current working directory.\n",
        "\n",
        "![alt text](https://drive.google.com/uc?id=11cuYOp99EHpXo5zmwchNHOlp8YaTbJx_)"
      ]
    },
    {
      "cell_type": "markdown",
      "metadata": {
        "id": "0jfajcMGXYIX",
        "colab_type": "text"
      },
      "source": [
        "## 15.3 os Module\n",
        "\n",
        "The os module contains many useful functions that allow you to interact with the underlying operating system. This includes making directories, getting a file's size, listing out files in a directory, and more.\n",
        "\n",
        "A list of some of the most important functions is below, but you should study up on the os module using outside resources to understand it's full potential. All of the functions in this list are passed a file path as a string as the argument to each function.\n",
        "\n",
        "&nbsp;&nbsp;&nbsp;&nbsp;&nbsp;&nbsp;&nbsp;&nbsp;&nbsp;os.makedirs()&nbsp;&nbsp;&nbsp;&nbsp;&nbsp;&nbsp;&nbsp;&nbsp;&nbsp;&nbsp;&nbsp;&nbsp;&nbsp;&nbsp;&nbsp;&nbsp;&nbsp;&nbsp;&nbsp;&nbsp;&nbsp;&nbsp;&nbsp;&nbsp;&nbsp;&nbsp;&nbsp;&nbsp;&nbsp;&nbsp;&nbsp;&nbsp;&nbsp;&nbsp;&nbsp;&nbsp;create a new folder\n",
        "\n",
        "&nbsp;&nbsp;&nbsp;&nbsp;&nbsp;&nbsp;&nbsp;&nbsp;&nbsp;os.path.split()&nbsp;&nbsp;&nbsp;&nbsp;&nbsp;&nbsp;&nbsp;&nbsp;&nbsp;&nbsp;&nbsp;&nbsp;&nbsp;&nbsp;&nbsp;&nbsp;&nbsp;&nbsp;&nbsp;&nbsp;&nbsp;&nbsp;&nbsp;&nbsp;&nbsp;&nbsp;&nbsp;&nbsp;&nbsp;&nbsp;&nbsp;&nbsp;&nbsp;&nbsp;&nbsp;&nbsp;returns tuple of dir name and base name (filename)\n",
        "\n",
        "&nbsp;&nbsp;&nbsp;&nbsp;&nbsp;&nbsp;&nbsp;&nbsp;&nbsp;os.path.getsize()&nbsp;&nbsp;&nbsp;&nbsp;&nbsp;&nbsp;&nbsp;&nbsp;&nbsp;&nbsp;&nbsp;&nbsp;&nbsp;&nbsp;&nbsp;&nbsp;&nbsp;&nbsp;&nbsp;&nbsp;&nbsp;&nbsp;&nbsp;&nbsp;&nbsp;&nbsp;&nbsp;&nbsp;&nbsp;&nbsp;&nbsp;returns size of file in bytes\n",
        "\n",
        "&nbsp;&nbsp;&nbsp;&nbsp;&nbsp;&nbsp;&nbsp;&nbsp;&nbsp;os.listdir()&nbsp;&nbsp;&nbsp;&nbsp;&nbsp;&nbsp;&nbsp;&nbsp;&nbsp;&nbsp;&nbsp;&nbsp;&nbsp;&nbsp;&nbsp;&nbsp;&nbsp;&nbsp;&nbsp;&nbsp;&nbsp;&nbsp;&nbsp;&nbsp;&nbsp;&nbsp;&nbsp;&nbsp;&nbsp;&nbsp;&nbsp;&nbsp;&nbsp;&nbsp;&nbsp;&nbsp;&nbsp;&nbsp;&nbsp;&nbsp;&nbsp;&nbsp;&nbsp;returns list of filenames in the path\n",
        "\n",
        "&nbsp;&nbsp;&nbsp;&nbsp;&nbsp;&nbsp;&nbsp;&nbsp;&nbsp;os.path.exists()&nbsp;&nbsp;&nbsp;&nbsp;&nbsp;&nbsp;&nbsp;&nbsp;&nbsp;&nbsp;&nbsp;&nbsp;&nbsp;&nbsp;&nbsp;&nbsp;&nbsp;&nbsp;&nbsp;&nbsp;&nbsp;&nbsp;&nbsp;&nbsp;&nbsp;&nbsp;&nbsp;&nbsp;&nbsp;&nbsp;&nbsp;&nbsp;&nbsp;checks if a file or folder exists\n",
        "\n",
        "\n"
      ]
    },
    {
      "cell_type": "markdown",
      "metadata": {
        "id": "RamTSMqkY88C",
        "colab_type": "text"
      },
      "source": [
        "## 15.4 Reading / Writing to a File\n",
        "\n",
        "The general steps to reading/writing to a file are:\n",
        "  1. open the file as a File object using open()\n",
        "  2. use the read() or write() method on the object\n",
        "  3. close the file using close()\n",
        "\n",
        "We will go over each of these steps in further detail in the following sections."
      ]
    },
    {
      "cell_type": "markdown",
      "metadata": {
        "id": "9XWotGIcROXt",
        "colab_type": "text"
      },
      "source": [
        "### Opening Files\n",
        "\n",
        "To open a file to read/write to, you can use the open() function. The path of the file you want to open will be passed into the function as a string. There is an optional second parameter for the open function that allows you to specify the \"mode\" in which you want to open the file in. An 'r' is read (which is the default mode if one is not specified. A 'w' is write, which will overwrite any existing text in the file. An 'a' is append, which allows you to write to a file and will add the new text to the existing text in the file.\n",
        "\n",
        "An example of what opening a file might look like in your code is shown below:\n",
        "\n",
        "`file = open('C:\\\\Users\\\\john\\\\Documents\\\\file.txt', 'a')`\n",
        "\n",
        "The second parameter specifies that this file be opened in append mode, meaning we can add new text to the file."
      ]
    },
    {
      "cell_type": "markdown",
      "metadata": {
        "id": "_qNWMm5jW829",
        "colab_type": "text"
      },
      "source": [
        "### Reading a File\n",
        "\n",
        "There are two important methods that can be used to read a file. The read() method returns the contents of the file as one long string. The readlines() method returns a list of strings, one for each line of the file.\n",
        "\n",
        "The following example shows how you would read a file to get a list of each line of the file:\n",
        "\n",
        "file = open('C:\\\\Users\\\\john\\\\Documents\\\\file.txt', 'r')\n",
        "file.readlines()\n",
        "\n",
        "```\n",
        "file = open('C:\\\\Users\\\\john\\\\Documents\\\\file.txt', 'r')\n",
        "file.readlines()\n",
        "```\n",
        "\n"
      ]
    },
    {
      "cell_type": "markdown",
      "metadata": {
        "id": "lCkb56z1aSnw",
        "colab_type": "text"
      },
      "source": [
        "### Writing to a File\n",
        "\n",
        "To write to a file, you use the write() method, passing in the text you want to add as a string. You also need to close the file when you are finished writing to it or reading from it by using the close() function. An example to show this can be seen below.\n",
        "\n",
        "\n",
        "\n",
        "```\n",
        "file = open('C:\\\\Users\\\\john\\\\Documents\\\\file.txt', 'a')\n",
        "file.write('This is a file.')\n",
        "file.close()\n",
        "```\n",
        "\n",
        "Another useful option is the with open method. With this syntax, the file will automatically close once the code within the code block executes. This syntax can be seen below in an example.\n",
        "\n",
        "\n",
        "\n",
        "```\n",
        "filename = sys.argv[1]\n",
        "with open(filename) as fi:\n",
        "  for line in fi:\n",
        "    line_num = 1\n",
        "    print(line_num + ' ' + line)\n",
        "    line_num = line_num + 1\n",
        "```\n",
        "\n",
        "\n",
        "\n"
      ]
    },
    {
      "cell_type": "markdown",
      "metadata": {
        "id": "Qgbt8SAbvjsU",
        "colab_type": "text"
      },
      "source": [
        "# Section 16: File Organization\n",
        "\n",
        "Now that you know how to read and write to files, you also should learn how to work with the existing files and folders on your computer.\n",
        "\n",
        "You can do tasks that you would normally do from the command line in your Python code, such as moving, copying, or deleting files.\n",
        "\n",
        "We use the os module that we discussed in a previous section as well as a new one that we will discuss called shutil."
      ]
    },
    {
      "cell_type": "markdown",
      "metadata": {
        "id": "LJ4b2j59Gj61",
        "colab_type": "text"
      },
      "source": [
        "## 16.1 Modules\n",
        "\n",
        "There are 3 modules related to file management in Python - os, shutil, and sys. \n",
        "* The os module provides a way to interact with the underlying operating system (like moving through the directories, making/deleting directories, etc.). \n",
        "* The shutil module contains functions to do advanced actions with files (like copying files and removing empty directories). \n",
        "*The sys module provides access to variables maintained by the interpreter and functions that interact with the interpreter (such as using argv to get a filename from the interpreter when a python file is ran from the command line)."
      ]
    },
    {
      "cell_type": "markdown",
      "metadata": {
        "id": "GkWF4m_cCUC4",
        "colab_type": "text"
      },
      "source": [
        "## 16.2 Doing Command Line Things in Python\n",
        "\n",
        "Below is a chart that shows the comparison between commands in Windows, MAC/Linux, and the Python equivalent to each command.\n",
        "\n",
        "![alt text](https://drive.google.com/uc?id=1vjRRTYQAtZAnQP8Z6GzCGr0Q6qGFkbgl)"
      ]
    },
    {
      "cell_type": "markdown",
      "metadata": {
        "id": "Zrg1kUk4sSyA",
        "colab_type": "text"
      },
      "source": [
        "# Section 17: Shelve\n",
        "\n",
        "Shelve is a module for object persistence. Basically, it is a way to \"save\" an object. It is similar to the structure of a dictionary in Python, as it uses a key to open the saved open the object once it is saved. This module is useful for programs such as games - it allows you to save your progess and then open it again later."
      ]
    },
    {
      "cell_type": "markdown",
      "metadata": {
        "id": "svupxgoCvjSJ",
        "colab_type": "text"
      },
      "source": [
        "## 17.1 Add / Retrieve \"Shelf\" Items\n",
        "\n",
        "Adding items to a shelf using shelve and retrieving them from the shelf is a similar process to reading and writing to a file. First you have to open the shelf, assign items to the shelf, and then close it. The code for this process can be seen below in an example."
      ]
    },
    {
      "cell_type": "code",
      "metadata": {
        "id": "RcpArQR2wkji",
        "colab_type": "code",
        "colab": {}
      },
      "source": [
        "import shelve                                           # Be sure to import the module!!\n",
        "\n",
        "# ADDING ITEMS TO A SHELF\n",
        "shelf = shelve.open(\"playlists\")                        # Create a shelf file\n",
        "rock = ['Even Flow', 'Higher', 'You Really Got Me']     # Make some data for the shelf\n",
        "fave_song = 'You Make It Easy'                          # Make more data just to see how it works\n",
        "shelf[\"rock\"] = rock                                    # Assign the data to the shelf file\n",
        "shelf['favorite'] = fave_song                           # Also assign the extra data to the shelf\n",
        "shelf.close()                                           # Close the shelf\n",
        "\n",
        "# RETRIEVING ITEMS FROM A SHELF\n",
        "shelf = shelve.open(\"playlists\")                        # Open the shelf file\n",
        "print(shelf['rock'])                                    # Now we can access the data we stored by using their key!\n",
        "print(shelf['favorite'])\n",
        "shelf.close()                                           # Close the shelf\n"
      ],
      "execution_count": null,
      "outputs": []
    },
    {
      "cell_type": "markdown",
      "metadata": {
        "id": "VdAc9vDs8Yga",
        "colab_type": "text"
      },
      "source": [
        "## 17.2 Modify Items on a Shelf\n",
        "\n",
        "To modify items on a shelf, you just have to change the object and reassign the new value to the item on the shelf using its key (JUST LIKE A DICTIONARY)."
      ]
    },
    {
      "cell_type": "code",
      "metadata": {
        "id": "uQMYiOqb_s7o",
        "colab_type": "code",
        "colab": {}
      },
      "source": [
        "import shelve\n",
        "\n",
        "shelf = shelve.open('playlists')\n",
        "favorite = 'You Make It Easy'\n",
        "shelf[favorite] = favorite\n",
        "shelf.close()\n",
        "\n",
        "# MODIFYING ITEMS\n",
        "shelf = shelve.open('playlists')                      # Open the shelf\n",
        "shelf['favorite'] = 'Even Flow'                       # Change value of key\n",
        "shelf.sync()                                          # Save and leave shelf open\n",
        "print(shelf['favorite'])\n",
        "shelf.close()\n"
      ],
      "execution_count": null,
      "outputs": []
    },
    {
      "cell_type": "markdown",
      "metadata": {
        "id": "-TI-d8WFC0iC",
        "colab_type": "text"
      },
      "source": [
        "## 17.3 Removing an Item\n",
        "\n",
        "Similarly, removing an item from a shelf is done just like removing an item from a dictionary. You will use the del keyword, along with the item's key."
      ]
    },
    {
      "cell_type": "code",
      "metadata": {
        "id": "kusYPDsFDKsG",
        "colab_type": "code",
        "colab": {}
      },
      "source": [
        "import shelve\n",
        "\n",
        "shelf = shelve.open(\"pets\")\n",
        "dogs = ['Sammy', 'Sadie']\n",
        "cat = 'Milo'\n",
        "shelf[\"dogs\"] = dog\n",
        "shelf['cat'] = cat\n",
        "shelf.close()\n",
        "\n",
        "# REMOVING ITEM\n",
        "shelf = shelve.open('pets')\n",
        "print(list(shelf.keys()))\n",
        "del shelf['cat']\n",
        "print(list(shelf.keys()))\n",
        "shelf.close()"
      ],
      "execution_count": null,
      "outputs": []
    },
    {
      "cell_type": "markdown",
      "metadata": {
        "id": "31f9GKyyHwt1",
        "colab_type": "text"
      },
      "source": [
        "# Section 18: Web Scraping\n",
        "\n",
        "Web scraping allows us to download and process content from a webpage. You will have to know a little bit about html in order to be sucessful at using code to pull out thing from a site's html to use in your code. \n",
        "\n",
        "If you need a review of html or do not have much experience with it, I recommend using the following link to help you: https://www.w3schools.com/html/html_basic.asp. It is very easy to understand and is broken into a menu of concepts so that you can easily find what you are looking for.\n",
        "\n",
        "In the next sections, we will discuss 2 modules that you will need to have to do web scraping in Python.\n",
        "\n",
        "\n",
        "\n"
      ]
    },
    {
      "cell_type": "markdown",
      "metadata": {
        "id": "qkcfoMb2prUB",
        "colab_type": "text"
      },
      "source": [
        "## 18.1 requests Module\n",
        "\n",
        "The requests module allows you to download content from the Web. You will need to install the module first (i.e. pip install requests).\n",
        "\n",
        "This module is useful for downloading and saving the html file of a web page so that you don't have to keep requesting over and over again (because sometimes web sites will catch it and think you're being sketchy so they'll block your requests). So below is the code for how to download and save the html file to use later.\n"
      ]
    },
    {
      "cell_type": "code",
      "metadata": {
        "id": "YurgrQ4eyjJ_",
        "colab_type": "code",
        "colab": {}
      },
      "source": [
        "# import the module\n",
        "import requests\n",
        "\n",
        "# request the html from the url\n",
        "rsp = requests.get(\"http://www.winsipedia.com/ranking/all-time-wins\")\n",
        "# check the status code - if 200 it will ignore thie, but if it's not a success it will throw an exception\n",
        "rsp.raise_for_status()\n",
        "# save the html file to hard drive\n",
        "with open('football_stats.html', 'wb') as file:\n",
        "  for bytes in rsp.iter_content(10000):\n",
        "    file.write(bytes)\n"
      ],
      "execution_count": null,
      "outputs": []
    },
    {
      "cell_type": "markdown",
      "metadata": {
        "id": "PZvjMhIy4kyI",
        "colab_type": "text"
      },
      "source": [
        "## 18.2 BeautifulSoup Module\n",
        "\n",
        "Now that we know how to retrieve the html using the requests module, we can use the BeautifulSoup module to extract information from it. This is where knowing a little bit about html will be useful. \n",
        "\n",
        "We will do an example in the next few sections that will each build on top of the previous one to go over each step of the process. The example is getting a list of faculty members that are a part of the School of Computer and Cyber Sciences from the AU website."
      ]
    },
    {
      "cell_type": "markdown",
      "metadata": {
        "id": "tmQDdcyf7QIX",
        "colab_type": "text"
      },
      "source": [
        "### Creating a BeautifulSoup Object\n",
        "\n",
        "To create a BeautifulSoup object, you will first have to get the html using the requests module. Then, you will create the BeautifulSoup object."
      ]
    },
    {
      "cell_type": "code",
      "metadata": {
        "id": "-3s-kxbD51gl",
        "colab_type": "code",
        "colab": {}
      },
      "source": [
        "import requests\n",
        "import bs4\n",
        "\n",
        "### STEP 1 - GET THE HTML ###\n",
        "# request the html from the url using requests\n",
        "rsp = requests.get(\"https://www.augusta.edu/faculty/directory/search.php?college=10\")\n",
        "# check the status code - if 200 it will ignore thie, but if it's not a success it will throw an exception\n",
        "rsp.raise_for_status()\n",
        "\n",
        "### STEP 2 - CREATE A BEAUTIFULSOUP OBJECT FROM THE HTML ###\n",
        "soup = bs4.BeautifulSoup(rsp.text)\n",
        "\n",
        "# you can print it just to make sure you got the html\n",
        "print(soup)\n"
      ],
      "execution_count": null,
      "outputs": []
    },
    {
      "cell_type": "markdown",
      "metadata": {
        "id": "b03QQho17yf6",
        "colab_type": "text"
      },
      "source": [
        "### Finding Elements in the HTML\n",
        "\n",
        "Again, you can use the following link to help you with html if you are unsure: https://www.w3schools.com/html/html_basic.asp.\n",
        "\n",
        "Basically, you will use the select() method to extract information by passing the CSS selector into this method."
      ]
    },
    {
      "cell_type": "code",
      "metadata": {
        "id": "WwpC7tjl9tgH",
        "colab_type": "code",
        "colab": {}
      },
      "source": [
        "import requests\n",
        "import bs4\n",
        "\n",
        "### STEP 1 - GET THE HTML ###\n",
        "# request the html from the url using requests\n",
        "rsp = requests.get(\"https://www.augusta.edu/faculty/directory/search.php?college=10\")\n",
        "# check the status code - if 200 it will ignore thie, but if it's not a success it will throw an exception\n",
        "rsp.raise_for_status()\n",
        "\n",
        "### STEP 2 - CREATE A BEAUTIFULSOUP OBJECT FROM THE HTML ###\n",
        "soup = bs4.BeautifulSoup(rsp.text)\n",
        "\n",
        "### STEP 3 - SELECT ELEMENTS\n",
        "# use the select() method to extract information from the html by passing in the CSS selector you need\n",
        "staff_list = soup.select('.name') # see page 246 in the Automate the Boring Stuff book for more on examples of CSS selectors\n",
        "print(staff_list) # shows the html code that we extracted from the select() method\n",
        "for staff in staff_list:\n",
        "  print(staff.getText()) # this method returns the text between the tags of the html that you extracted\n",
        "\n"
      ],
      "execution_count": null,
      "outputs": []
    },
    {
      "cell_type": "markdown",
      "metadata": {
        "id": "yhIPHXt6bAkk",
        "colab_type": "text"
      },
      "source": [
        "As you can see from the code above, what we get is a list of all the faculty of the SCCS. Web scraping is definitely a time-consuming process because sometimes the html can be difficult to work with. Go practice!"
      ]
    },
    {
      "cell_type": "markdown",
      "metadata": {
        "id": "3XbcMbQ8cE2n",
        "colab_type": "text"
      },
      "source": [
        "# Section 19: Excel\n",
        "\n",
        "You have probably had experience working with Excel, or at least know what the program looks like - like a table, an Excel worksheet contains columns and rows that intersect to form a cell. Excel worksheets are useful for organizing data.\n",
        "\n",
        "But did you know that you can work with Excel worksheets using Python? This can be done using a module in Python called openpyxl. This module allows you to extract data from Excel worksheets and also edit them. We will discuss the mechanics of the openpyxl module in the following sections."
      ]
    },
    {
      "cell_type": "markdown",
      "metadata": {
        "id": "QTiW0egtoZMr",
        "colab_type": "text"
      },
      "source": [
        "* *Note: you will need to install and import the openpyxl module before using it*"
      ]
    },
    {
      "cell_type": "markdown",
      "metadata": {
        "id": "Udm8Na03oRay",
        "colab_type": "text"
      },
      "source": [
        "## 19.1 Reading Excel Worksheets\n",
        "\n",
        "Just for reference, the image below shows the Excel worksheet that we will be using in the example code in this section."
      ]
    },
    {
      "cell_type": "markdown",
      "metadata": {
        "id": "yKhGaR6Ma6F2",
        "colab_type": "text"
      },
      "source": [
        "![alt text](https://drive.google.com/uc?id=1AbTbjzEp-Afxb9FHTGvr0dKCxORvSocm)\n",
        "\n",
        "\n",
        "The name of this file is student_population. Column A is a list of colleges in Georgia and column B is the number of students that attend each college."
      ]
    },
    {
      "cell_type": "markdown",
      "metadata": {
        "id": "2XgoSOi8bgnD",
        "colab_type": "text"
      },
      "source": [
        "### Open Excel Document\n",
        "\n",
        "After importing the openpyxl module, you will need to open the Excel document that you want to use by using the load_workbook method. The load_workbook method will be passed a filename as its parameter. This process makes a workbook object that you can use in your code.\n",
        "\n",
        "\n",
        "\n",
        "```\n",
        "import openpyxl\n",
        "wb = openpyxl.load_workbook('student_population.xlsx')\n",
        "```\n",
        "\n"
      ]
    },
    {
      "cell_type": "markdown",
      "metadata": {
        "id": "OvCi8kqbcyWy",
        "colab_type": "text"
      },
      "source": [
        "### Get a Sheet from the Workbook\n",
        "\n",
        "Since there are sometimes multiple sheets in an Excel workbook, you will need to specify which sheet you want to work with. You can do this two different ways:\n",
        "\n",
        "\n",
        "\n",
        "```\n",
        "import openpyxl\n",
        "wb = openpyxl.load_workbook('student_population.xlsx')\n",
        "ws = wb.active # the sheet that was active the last time the file was saved\n",
        "ws = wb.worksheets[0] # a certain sheet in the workbook\n",
        "```\n",
        "\n"
      ]
    },
    {
      "cell_type": "markdown",
      "metadata": {
        "id": "T1T2NOIlfoH3",
        "colab_type": "text"
      },
      "source": [
        "### Getting Cells from the Sheets\n",
        "\n",
        "Now that you have a sheet, you can select a cell or group of cells from that sheet. You can do this in several different ways."
      ]
    },
    {
      "cell_type": "markdown",
      "metadata": {
        "id": "MBX0N-QLhqs4",
        "colab_type": "text"
      },
      "source": [
        "#### Using Cell Coordinates\n",
        "\n",
        "You can use a cell's coordinates (column and row) to access its value.\n",
        "\n",
        "\n",
        "\n",
        "```\n",
        "import openpyxl\n",
        "wb = openpyxl.load_workbook('student_population.xlsx')\n",
        "ws = wb.active\n",
        "\n",
        "print(ws['A1'].value) # returns Augusta University\n",
        "print(ws['B1'].value) # returns 9274\n",
        "```\n",
        "\n"
      ]
    },
    {
      "cell_type": "markdown",
      "metadata": {
        "id": "FC0ST_kClnO9",
        "colab_type": "text"
      },
      "source": [
        "#### Using Row and Column Numbers\n",
        "\n",
        "This is similar to the method above, but you can also use row and column numbers to access cell values.\n",
        "\n",
        "```\n",
        "import openpyxl\n",
        "wb = openpyxl.load_workbook('student_population.xlsx')\n",
        "ws = wb.active\n",
        "\n",
        "print(ws.cell(row=1, column= 1).value) # returns Augusta University\n",
        "print(ws.cell(row=1, column= 1).value) # returns 9274\n",
        "```\n",
        "\n"
      ]
    },
    {
      "cell_type": "markdown",
      "metadata": {
        "id": "WD2sajETnKl6",
        "colab_type": "text"
      },
      "source": [
        "#### Iterating Over a Range of Cells\n",
        "\n",
        "You can also use a for loop to iterate over a range of cells using their coordinates as shown in the code block below.\n",
        "\n",
        "\n",
        "```\n",
        "import openpyxl\n",
        "wb = openpyxl.load_workbook('student_population.xlsx')\n",
        "ws = wb.active\n",
        "\n",
        "for row in ws['A2:B7']:\n",
        "    for cell in row:\n",
        "        print(cell.value)\n",
        "```\n",
        "\n",
        "The output for this code is:\n",
        "\n",
        "\n",
        "\n",
        "```\n",
        "University of Georgia\n",
        "37606\n",
        "Georgia Tech\n",
        "26839\n",
        "Georgia Southern University\n",
        "20517\n",
        "Kennesaw State University\n",
        "35600\n",
        "Augusta Tech\n",
        "6361\n",
        "Georgia State University\n",
        "32082\n",
        "```\n",
        "\n",
        "Note that you can choose to leave out certain rows/columns. In this case, we left out the first row of the worksheet and started at row 2.\n",
        "\n",
        "\n",
        "\n"
      ]
    },
    {
      "cell_type": "markdown",
      "metadata": {
        "id": "a4ooSkAoqtvT",
        "colab_type": "text"
      },
      "source": [
        "#### Iterating Over Rows\n",
        "\n",
        "Now let's say that you just want to iterate over the entire worksheet to extract data from it to save to variables that you can use in your code. The code below shows how you can do this.\n",
        "\n",
        "\n",
        "```\n",
        "import openpyxl\n",
        "wb = openpyxl.load_workbook('student_population.xlsx')\n",
        "ws = wb.active\n",
        "\n",
        "for row in ws.rows:\n",
        "    college = row[0].value     # i.e. 1st iteration this is cell A1\n",
        "    students = row[1].value    # i.e. 1st iteration this is cell B1\n",
        "\n",
        "    print(f'{college} has {students} students.')\n",
        "```\n",
        "\n",
        "Output:\n",
        "\n",
        "\n",
        "```\n",
        "Augusta University has 9274 students.\n",
        "University of Georgia has 37606 students.\n",
        "Georgia Tech has 26839 students.\n",
        "Georgia Southern University has 20517 students.\n",
        "Kennesaw State University has 35600 students.\n",
        "Augusta Tech has 6361 students.\n",
        "Georgia State University has 32082 students.\n",
        "```\n",
        "\n",
        "Think of a row in an Excel worksheet as a list. In this case, for the first iteration of the for loop, row[0] is the first cell of that row (A1). row[2] is the second cell, or B1. For the second iteration, row[0] will be cell A2 and row[1] will be cell B2... and so on.\n",
        "\n",
        "\n",
        "\n"
      ]
    },
    {
      "cell_type": "markdown",
      "metadata": {
        "id": "-ApQ9R-wBIqL",
        "colab_type": "text"
      },
      "source": [
        "## 19.2 Writing to Excel Worksheets\n",
        "\n",
        "You can also create/write to Excel worksheets using Python. In the following sections, we will go over how to create a new Excel workbook and worksheet, input data into the cells, and save the Excel document."
      ]
    },
    {
      "cell_type": "markdown",
      "metadata": {
        "id": "8cjwfoxoC0sA",
        "colab_type": "text"
      },
      "source": [
        "### Create an Excel Workbook and Worksheet\n",
        "\n",
        "If you already have an Excel workbook, you will open it just like we did in section 19.1. If not, you will need to create a new Excel workbook and worksheet.\n",
        "\n",
        "Below is an example where we have a dictionary of college football teams and their total wins. Let's put that dictionary into an Excel file.\n",
        "\n",
        "\n",
        "```\n",
        "import openpyxl as xl\n",
        "\n",
        "team_wins = {\n",
        "    'Alabama': 916,\n",
        "    'Arkansas': 717,\n",
        "    'Auburn': 776,\n",
        "    'Florida': 735,\n",
        "    'Georgia': 831,\n",
        "    'Kentucky': 623,\n",
        "    'LSU': 812,\n",
        "    'Mississippi State': 569,\n",
        "    'Ole Miss': 642,\n",
        "    'Missouri': 685,\n",
        "    'South Carolina': 613,\n",
        "    'Tennessee': 846,\n",
        "    'Texas A&M': 749,\n",
        "    'Vanderbilt': 609\n",
        "}\n",
        "\n",
        "wb = xl.Workbook()             # create a new workbook\n",
        "wb.remove(wb.active)           # delete the active sheet (i.e. Sheet1)\n",
        "\n",
        "ws = wb.create_sheet(\"Total Wins for SEC Teams\")    # create a new worksheet and give it a name\n",
        "\n",
        "```\n",
        "\n"
      ]
    },
    {
      "cell_type": "markdown",
      "metadata": {
        "id": "D7UwMlVdfI6o",
        "colab_type": "text"
      },
      "source": [
        "### Put Data into the Excel Worksheet\n",
        "\n",
        "To put data into the worksheet, you will need to assign the value to the cell in the worksheet.\n",
        "\n",
        "For our example below, we want the team name to be in column A and the wins to be in column B. So below are our steps:\n",
        "\n",
        "1. Initialize a row_count variable (equal to 1 becuase we want the first one in the first row)\n",
        "2. Iterate over the teams in the team_wins dictionary\n",
        "3. Assign the team to column A and the proper row number (i.e. A1, A2, A3...)\n",
        "4. Assign the wins to column B and the proper row number (i.e. B1, B2, B3...)\n",
        "\n",
        "```\n",
        "team_wins = {\n",
        "    'Alabama': 916,\n",
        "    'Arkansas': 717,\n",
        "    'Auburn': 776,\n",
        "    'Florida': 735,\n",
        "    'Georgia': 831,\n",
        "    'Kentucky': 623,\n",
        "    'LSU': 812,\n",
        "    'Mississippi State': 569,\n",
        "    'Ole Miss': 642,\n",
        "    'Missouri': 685,\n",
        "    'South Carolina': 613,\n",
        "    'Tennessee': 846,\n",
        "    'Texas A&M': 749,\n",
        "    'Vanderbilt': 609\n",
        "}\n",
        "\n",
        "\n",
        "wb = xl.Workbook()\n",
        "wb.remove(wb.active)\n",
        "\n",
        "ws = wb.create_sheet(\"Total Wins for SEC Teams\")\n",
        "\n",
        "row_count = 1                                         # to keep count of rows\n",
        "for team in team_wins:                                # iterate over teams in team_wins dictionary\n",
        "        ws[f'A{row_count}'].value = team              # assign the team name (represented by the variable team) to column 1 (A) and row number\n",
        "        ws[f'B{row_count}'].value = team_wins[team]   # assign the wins (represented by team_wins[team] to column 2 (B) and row number\n",
        "        row_count += 1                                # increase row count to go to the next row\n",
        "```\n",
        "\n",
        "\n",
        "\n"
      ]
    },
    {
      "cell_type": "markdown",
      "metadata": {
        "id": "3mN-DQArn0U3",
        "colab_type": "text"
      },
      "source": [
        "### Save the Excel File\n",
        "\n",
        "IMPORTANT!!! All of the above code is great but won't do anything unless you save the file!!\n",
        "\n",
        "Below shows the final step to our code to save the Excel file so that we successfully create an Excel document of our data in our dictionary. You will use the save method and pass it a file name.\n",
        "\n",
        "\n",
        "\n",
        "```\n",
        "import openpyxl as xl\n",
        "\n",
        "team_wins = {\n",
        "    'Alabama': 916,\n",
        "    'Arkansas': 717,\n",
        "    'Auburn': 776,\n",
        "    'Florida': 735,\n",
        "    'Georgia': 831,\n",
        "    'Kentucky': 623,\n",
        "    'LSU': 812,\n",
        "    'Mississippi State': 569,\n",
        "    'Ole Miss': 642,\n",
        "    'Missouri': 685,\n",
        "    'South Carolina': 613,\n",
        "    'Tennessee': 846,\n",
        "    'Texas A&M': 749,\n",
        "    'Vanderbilt': 609\n",
        "}\n",
        "\n",
        "\n",
        "wb = xl.Workbook()\n",
        "wb.remove(wb.active)\n",
        "\n",
        "ws = wb.create_sheet(\"Total Wins for SEC Teams\")\n",
        "\n",
        "row_count = 1\n",
        "for team in team_wins:\n",
        "        ws[f'A{row_count}'].value = team\n",
        "        ws[f'B{row_count}'].value = team_wins[team]\n",
        "        row_count += 1\n",
        "\n",
        "wb.save('team_wins.xlsx')      # SAVE THE FILE\n",
        "```\n",
        "\n"
      ]
    }
  ]
}