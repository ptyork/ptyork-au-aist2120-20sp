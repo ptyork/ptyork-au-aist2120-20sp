{
 "cells": [
  {
   "cell_type": "markdown",
   "metadata": {},
   "source": [
    "# Final Exam Study Guide (supplemental)\n",
    "\n",
    "Though the exam is comprehensive, this guide is NOT. The material from the prior exams is very much still in scope. Thus, the study guides for those exams are likewise still valid.\n",
    "\n",
    "That said, there is very little code that you will have to WRITE on the final exam. There are only two exceptions. The first will be Dictionary code, since that is a vital concept, but one that seems to remain a challenge for many of you. So you will need to be able to write a bit of code related to manipulating and iterating over data in Python dictionaries. Same basic concepts that were on Exam 2 in this regard. The second will be writing command line statements with relative and absolute paths. Again, an important concept that some have been continuing to struggle with. In both cases, the questions will be VERY similar to the ones from Exam 2.\n",
    "\n",
    "Instead, when it comes to code, mostly you will just be interpreting code. Evaluating boolean expressions. Evaluating slice expressions. Evaluating the return value of functions. Telling me what prints to the screen. Again, all will be very familiar to you from the earlier exams.\n",
    "\n",
    "## HOW to Study\n",
    "\n",
    "Though studying by \"answering\" a study guide is certainly not going to hurt, the exam questions are almost ALL geared such that if you know how to CODE the stuff we've been doing, you'll pretty easily pass. The study guide is truly just intended to GUIDE you in the areas that you should focus on. But when it says you should be able to do or recognize or whatever, it's saying that you will be expected to write or interpret code. And the ONLY way you can study for this is to actually write code. From scratch. NOT copy paste from a book or read code from a book or read the code from an example or... No, you need to actually DO the stuff.\n",
    "\n",
    "Look in the book for an example project, but take the IDEA and write the code yourself. Use the command line to do everything related to this exercise, from creating a project folder to opening VS code to executing and testing (SOOOOO IMPORATNT) your code. If you had to \"cheat\" and see what the \"answer\" was, then you didn't learn it. Do another one. If you run out of ones from the book, look online. Or come up with similar ideas on your own. Once the concepts really \"click,\" you can pretty quickly do these kinds of exercises WITHOUT \"cheating.\" Obviously if you never get there, well, an A's an unlikely outcome since that indicates \"mastery\" (at least at a given skill level). But do your best. Honestly, my questions don't even presume \"mastery.\" MOST just presume basic understanding, familiarity and/or competence.\n",
    "\n",
    "## New Topics\n",
    "\n",
    "The #1 thing that I'll be testing you on related to topics from the last exam is simply an understanding of when and where each of the modules and concepts that we learned can and should be leveraged. So to study for this, I recommend that you review the book AND the lectures, noting each new module that is introduced and what each is for.\n",
    "\n",
    "When there are similiarities between modules, it will behoove you to note these similarities, but also to find the differences. Why use one over the other? Benefits and tradeoffs?\n",
    "\n",
    "There will be VERY little code that you will need to read or understand from this section. But just to point you in the direction of a few additional things to focus on:\n",
    "\n",
    "* We looked closely at 4 data storage options: CSV, XLSX, JSON, and Shelve. You DEFINITELY should be able to compare and contrast these data types and their related Python modules.\n",
    "\n",
    "* Two of those formats are \"text-based\" and widely used for data transfer over the Internet. You probably want to understand the basic \"rules\" for these two formats. How is data structured in each? How are the \"fields\" delimited? How are they \"translated\" when read in using the associated Python modules?\n",
    "\n",
    "* We looked a multiple methods for retrieving \"data\" from the Internet. In each case, they leverage HTTP(or HTTPS) and the `requests` module. A VERY basic understanding of the HTTP protocol would be a useful nugget of knowledge. And again, knowing what each of these method is best used for is going to be highly useful both for the exam and moving forward in your academic and professional careers.\n",
    "\n",
    "AND, that's it. Good luck, and happy studying!!\n"
   ]
  }
 ],
 "metadata": {
  "language_info": {
   "codemirror_mode": {
    "name": "ipython",
    "version": 3
   },
   "file_extension": ".py",
   "mimetype": "text/x-python",
   "name": "python",
   "nbconvert_exporter": "python",
   "pygments_lexer": "ipython3",
   "version": 3
  },
  "orig_nbformat": 2
 },
 "nbformat": 4,
 "nbformat_minor": 2
}