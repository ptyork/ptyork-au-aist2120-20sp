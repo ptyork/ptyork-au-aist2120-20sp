{
 "nbformat": 4,
 "nbformat_minor": 2,
 "metadata": {
  "language_info": {
   "name": "python",
   "codemirror_mode": {
    "name": "ipython",
    "version": 3
   },
   "version": "3.7.4-final"
  },
  "orig_nbformat": 2,
  "file_extension": ".py",
  "mimetype": "text/x-python",
  "name": "python",
  "npconvert_exporter": "python",
  "pygments_lexer": "ipython3",
  "version": 3,
  "kernelspec": {
   "name": "python37464bitpaulvirtualenv68c2c96aaeb644e6be1b0c778319ea92",
   "display_name": "Python 3.7.4 64-bit ('paul': virtualenv)"
  }
 },
 "cells": [
  {
   "cell_type": "markdown",
   "execution_count": null,
   "metadata": {},
   "outputs": [],
   "source": [
    "# Exam 1 Study Guide\n",
    "\n",
    "## Scripting Basics\n",
    "\n",
    "* Interpreted (scripts) vs. Compiled\n",
    "    - Compiled programs *generally*:\n",
    "        - Are better optimized for specific platforms\n",
    "        - Are more efficient with memory allocation\n",
    "        - Are \"safer\" because they catch more errors (especially syntax errors, but also many common logic errors) during compilation\n",
    "    - Interpreted programs *generally*:\n",
    "        - Are cross-platform by nature since most run unaltered on numerous operating systems and hardware platforms\n",
    "        - Enable fast \"round-trip\" (program, test, fix) programming by eliminating the compiler step\n",
    "        - Require less \"getting started\" time and little to no development environment setup...just write code and run it.\n",
    "    - Python, Javascript, Ruby, PowerShell, Batch files, Shell scripts, etc. are USUALLY interpreted (\"scripting languages\")\n",
    "    - C, C++, Java, C#, etc. are USUALLY compiled into a binary executable before running\n",
    "* REPL (read-evaluate-print loop)\n",
    "    - All interpreted languages also have an accompanying REPL (or \"interactive shell\")\n",
    "    - Use to run commands and evaluate expressions\n",
    "* Script\n",
    "    - A text file containing multiple commands to run in an interpreted language\n",
    "    - The \"non-interactive\" mode of an interpreted language\n",
    "\n",
    "## Python Basics\n",
    "\n",
    "* Python data types\n",
    "    - int\n",
    "    - float\n",
    "    - str\n",
    "    - bool\n",
    "    - each type is also a function used to convert other types to that type"
   ]
  },
  {
   "cell_type": "code",
   "execution_count": 10,
   "metadata": {},
   "outputs": [
    {
     "name": "stdout",
     "output_type": "stream",
     "text": "1 <class 'int'>\n5.3 <class 'float'>\nhello <class 'str'>\nTrue <class 'bool'>\n5 <class 'int'>\n"
    }
   ],
   "source": [
    "a = 1\n",
    "b = 5.3\n",
    "c = 'hello'\n",
    "d = True\n",
    "print(a, type(a))\n",
    "print(b, type(b))\n",
    "print(c, type(c))\n",
    "print(d, type(d))\n",
    "e = int(b)\n",
    "print(e, type(e))\n"
   ]
  },
  {
   "cell_type": "markdown",
   "metadata": {},
   "source": [
    "### MUST BE ABLE TO EVALUATE EXPRESSIONS (INCLUDING COMPARISONS AND ASSIGNMENT)\n",
    "\n",
    "* Python Expressions\n",
    "    - Basic arithmetic (+,-,*,/)\n",
    "    - Remainder/Modulus (%)\n",
    "    - Floor Division (//)\n",
    "    - Exponential/Power (**)\n",
    "\n",
    "\n",
    "    \n",
    "    "
   ]
  },
  {
   "cell_type": "code",
   "execution_count": 11,
   "metadata": {},
   "outputs": [
    {
     "name": "stdout",
     "output_type": "stream",
     "text": "2.0\n1.75\n1.75\n1\n3\n2401\n"
    }
   ],
   "source": [
    "print(8 / 4)\n",
    "print(7 / 4)\n",
    "print(7.0 / 4)\n",
    "print(7 // 4)\n",
    "print(7 % 4)\n",
    "print(7 ** 4)"
   ]
  },
  {
   "cell_type": "markdown",
   "metadata": {},
   "source": [
    "* Python Assignment Operators\n",
    "    - = is basic assignment, but\n",
    "    - +=, -=, *=, /= also work as shortcuts for arithmetic AND (re)assignment\n",
    "* Comparison Operators (evaluate to bool)\n",
    "    - ==, >, < (equal to, greater then or less than)\n",
    "        - numbers are \"obvious\"\n",
    "        - strings are also comparable\n",
    "            - Capital letters are \"less than\" lower case letters\n",
    "            - Remember the ord() and chr() functions...\n",
    "    - <=, >= (duh)\n",
    "    - != (not equal)\n",
    "* Comments\n",
    "    - use # to START a single line comment (no end)\n",
    "    - use ''' to START and END a multi-line comment (really a multi-line string expression)\n"
   ]
  },
  {
   "cell_type": "markdown",
   "metadata": {},
   "source": [
    "## Branching and Looping\n",
    "\n",
    "* Branching\n",
    "    - if\n",
    "    - if / else\n",
    "    - if / elif\n",
    "    - if / elif / else\n",
    "    - each \"block\" of code runs CONDITIONALLY depending on the value of the expression in the if or elif statement(s)\n",
    "* Looping\n",
    "    - while (do a LOT of practice with these)\n",
    "    - for n in range() (similar to for loop in C#...used only for counting/indexing)\n",
    "    - MUST know the \"exit\" commands and what they do / how they work\n",
    "        - break (exit the loop entirely)\n",
    "        - continue (skip to the next iteration of the loop)\n",
    "\n",
    "### YOU MUST BE ABLE TO READ, UNDERSTAND, AND STATE THE OUTPUT OF PYTHON CODE USING ANY OF THESE CONSTRUCTS\n",
    "\n",
    "Examples:\n",
    "    \n",
    "What is the output?\n",
    "\n",
    "    x = 5\n",
    "    y = 7\n",
    "    if x+2 >= y:\n",
    "        print(\"it's larger\")\n",
    "    else:\n",
    "        print(\"it's smaller\")\n",
    "\n",
    "What is the output?\n",
    "\n",
    "    name = \"jamal\"\n",
    "    if len(name) == 6:\n",
    "        print('SIXER')\n",
    "    else:\n",
    "        print(\"OK BOOMER\")\n",
    "\n",
    "What is the output?\n",
    "\n",
    "    name = \"denise\"\n",
    "    x = \"\"\n",
    "    while len(x) < len(name):\n",
    "        x += \"X\"\n",
    "    print(x)\n",
    "\n",
    "What is the output?\n",
    "\n",
    "    sum = 0\n",
    "    for x in range(1,5):\n",
    "        sum += x\n",
    "    print(sum)\n",
    "    "
   ]
  },
  {
   "cell_type": "markdown",
   "metadata": {},
   "source": [
    "## Sequences (Containers)\n",
    "\n",
    "* Lists\n",
    "    - Mutable (changeable)\n",
    "    - Dynamic size (UNLIKE C# Arrays)\n",
    "    - Use square brackets to define\n",
    "    - Can contain ANYTHING, including other Lists\n",
    "    - CAN contain duplicates\n",
    "    - Accessed using indexes"
   ]
  },
  {
   "cell_type": "code",
   "execution_count": 12,
   "metadata": {},
   "outputs": [
    {
     "name": "stdout",
     "output_type": "stream",
     "text": "['GA', 'SC', 'NC', 'AL', 'FL', 'TN']\nI heart NC\n"
    }
   ],
   "source": [
    "sestates = ['GA', 'SC', 'NC', 'AL', 'FL', 'TN']\n",
    "print(sestates)\n",
    "print(\"I heart \" + sestates[2])"
   ]
  },
  {
   "cell_type": "markdown",
   "metadata": {},
   "source": [
    "* List Methods (KNOW HOW TO USE THESE)\n",
    "    - append() to add an element to the end of a list\n",
    "    - insert() to add an element anywhere in the list\n",
    "    - pop() to remove (and retrieve) an element by *index*\n",
    "    - remove() to delete an element by *value*\n",
    "* OTHER Sequences\n",
    "    - string (str)\n",
    "        - sequence of characters\n",
    "        - \"special\"\n",
    "        - immutable\n",
    "    - tuple\n",
    "        - just like a list, but immutable\n",
    "        - instead of square brackets, declare using parentheses\n",
    "* Iterating Sequences & Slicing Sequences\n",
    "    - See the lecture notes from 2/4\n",
    "    - Given a list and a slice expression, you WILL need to WRITE the contents of the slice\n",
    "    - You WILL need to be able to work with list iteration\n",
    "    - Know the len() function and how it applies to lists / sequences\n",
    "\n",
    "Some example questions similar to ones you might see:\n",
    "\n",
    "     a_list = [2,4,6,8,10]\n",
    "\n",
    "Given the above list, write the members of the list returned from each of the following slices:\n",
    "\n",
    "     a_list[:]\n",
    "     a_list[2:]\n",
    "     a_list[:4]\n",
    "     a_list[1:3]\n",
    "     a_list[::-1]\n",
    "     a_list[1::2]\n",
    "\n",
    "Fill in the blanks below to achieve the desired output by iterating over a_list:\n",
    "\n",
    "    for ___________________:\n",
    "         print(\"Number: \" + ______________)\n",
    "\n",
    "*desired output*\n",
    "\n",
    "    Number: 2\n",
    "    Number: 4\n",
    "    Number: 6\n",
    "    Number: 8\n",
    "    Number: 10\n",
    "\n",
    "Write a line of code to add 12 to the end of a_list.\n",
    "\n",
    "Write a line of code to delete 8 from a_list.\n",
    "\n"
   ]
  },
  {
   "cell_type": "markdown",
   "metadata": {},
   "source": [
    "## Functions\n",
    "\n",
    "* Understand the vocabulary\n",
    "    - function declaration\n",
    "    - function name\n",
    "    - parameters (vs. arguments)\n",
    "    - function body\n",
    "    - \"calling\" a Function\n",
    "* Understand the purpose of the return statement\n",
    "    - with a value\n",
    "    - without a value\n",
    "* MUST be able to declare a function given a set of instructions\n",
    "    - e.g., def abc(xyz):\n",
    "\n",
    "## Strings\n",
    "\n",
    "* Generally just need to know the basics\n",
    "    - how to declare\n",
    "    - how to compare\n",
    "    - how to print\n",
    "    - how to concatenate\n",
    "    - how to \"slice\" (again JUST like slicing a list or tuple)\n",
    "* Know 1 function and 2 methods\n",
    "    - len('abc') ==> 3\n",
    "    - 'abc'.upper() ==> \"ABC\"\n",
    "    - 'ABC\".lower() ==> \"abc\"\n",
    "\n",
    "I think that's it for Exam 1. Again, this is effectively a review of 1301 in a slightly different dialect, so there's a lot here. But you should be capable of handling this much at this point in (at least) your second programming course.\n",
    "\n",
    "Study hard. Practice hard. You'll be fine. Good luck!!\n"
   ]
  }
 ]
}
